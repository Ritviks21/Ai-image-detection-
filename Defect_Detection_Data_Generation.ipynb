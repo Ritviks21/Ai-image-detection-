{
  "nbformat": 4,
  "nbformat_minor": 0,
  "metadata": {
    "colab": {
      "provenance": [],
      "gpuType": "T4",
      "authorship_tag": "ABX9TyMXZXNsAqUjW2UFRcOwv0SN",
      "include_colab_link": true
    },
    "kernelspec": {
      "name": "python3",
      "display_name": "Python 3"
    },
    "language_info": {
      "name": "python"
    },
    "accelerator": "GPU"
  },
  "cells": [
    {
      "cell_type": "markdown",
      "metadata": {
        "id": "view-in-github",
        "colab_type": "text"
      },
      "source": [
        "<a href=\"https://colab.research.google.com/github/Ritviks21/Ai-image-detection-/blob/main/Defect_Detection_Data_Generation.ipynb\" target=\"_parent\"><img src=\"https://colab.research.google.com/assets/colab-badge.svg\" alt=\"Open In Colab\"/></a>"
      ]
    },
    {
      "cell_type": "code",
      "execution_count": 1,
      "metadata": {
        "colab": {
          "base_uri": "https://localhost:8080/"
        },
        "id": "pP3Bp4cZEOpe",
        "outputId": "91d6c1c9-0b4d-42fd-d2fe-9c2ad4584d67"
      },
      "outputs": [
        {
          "output_type": "stream",
          "name": "stdout",
          "text": [
            "Requirement already satisfied: opencv-python in /usr/local/lib/python3.11/dist-packages (4.11.0.86)\n",
            "Requirement already satisfied: numpy in /usr/local/lib/python3.11/dist-packages (2.0.2)\n"
          ]
        }
      ],
      "source": [
        "!pip install opencv-python numpy\n"
      ]
    },
    {
      "cell_type": "code",
      "source": [
        "import cv2\n",
        "import numpy as np\n",
        "import os\n",
        "import random\n",
        "import json\n",
        "\n",
        "# --- Dataset Parameters ---\n",
        "IMAGE_WIDTH = 512\n",
        "IMAGE_HEIGHT = 512\n",
        "NUM_IMAGES = 1000  # Number of synthetic images to generate\n",
        "OUTPUT_DIR = \"synthetic_defect_data\" # Directory to save images and annotations\n",
        "\n",
        "# --- Defect Parameters (you can adjust these later) ---\n",
        "MAX_SCRATCHES_PER_IMAGE = 3\n",
        "MAX_PARTICLES_PER_IMAGE = 5\n",
        "MAX_BLOBS_PER_IMAGE = 2\n",
        "\n",
        "SCRATCH_COLOR = (50, 50, 50)  # Dark gray\n",
        "PARTICLE_COLOR = (200, 200, 200) # Light gray/white\n",
        "BLOB_COLOR = (100, 100, 100) # Medium gray\n",
        "\n",
        "# --- Ensure output directory exists ---\n",
        "os.makedirs(os.path.join(OUTPUT_DIR, \"images\"), exist_ok=True)\n",
        "os.makedirs(os.path.join(OUTPUT_DIR, \"annotations\"), exist_ok=True)\n",
        "\n",
        "print(f\"Output directory '{OUTPUT_DIR}' created or already exists.\")"
      ],
      "metadata": {
        "colab": {
          "base_uri": "https://localhost:8080/"
        },
        "id": "svOBpLYjE2UC",
        "outputId": "17b3e03c-f708-4c93-9b62-ea916bca20f2"
      },
      "execution_count": 2,
      "outputs": [
        {
          "output_type": "stream",
          "name": "stdout",
          "text": [
            "Output directory 'synthetic_defect_data' created or already exists.\n"
          ]
        }
      ]
    },
    {
      "cell_type": "code",
      "source": [
        "def create_base_wafer(width, height):\n",
        "    \"\"\"Creates a clean, uniform gray wafer image.\"\"\"\n",
        "    # Create a blank image with a medium gray color (like a silicon wafer)\n",
        "    # OpenCV uses BGR format\n",
        "    wafer = np.full((height, width, 3), 150, dtype=np.uint8) # A shade of gray\n",
        "    return wafer\n",
        "\n",
        "# Example usage (you can run this to see the base wafer)\n",
        "# base_image = create_base_wafer(IMAGE_WIDTH, IMAGE_HEIGHT)\n",
        "# cv2.imwrite(\"test_base_wafer.png\", base_image) # Saves it to your Colab environment\n",
        "# print(\"Test base wafer saved as 'test_base_wafer.png'\")"
      ],
      "metadata": {
        "id": "YT9MN2QOE_vL"
      },
      "execution_count": 3,
      "outputs": []
    },
    {
      "cell_type": "code",
      "source": [
        "def draw_scratch(image, scratch_color=(50, 50, 50)):\n",
        "    \"\"\"Draws a random scratch on the image and returns its bounding box.\"\"\"\n",
        "    img_h, img_w, _ = image.shape\n",
        "\n",
        "    # Randomly determine start and end points for the scratch\n",
        "    x1, y1 = random.randint(0, img_w), random.randint(0, img_h)\n",
        "    x2, y2 = random.randint(0, img_w), random.randint(0, img_h)\n",
        "\n",
        "    # Make scratches of varying thickness\n",
        "    thickness = random.randint(1, 4)\n",
        "\n",
        "    cv2.line(image, (x1, y1), (x2, y2), scratch_color, thickness)\n",
        "\n",
        "    # Calculate bounding box for the scratch (approximate, lines are tricky)\n",
        "    # For a line, a simple bounding box is min/max of x/y\n",
        "    min_x = min(x1, x2)\n",
        "    max_x = max(x1, x2)\n",
        "    min_y = min(y1, y2)\n",
        "    max_y = max(y1, y2)\n",
        "\n",
        "    # Add a small buffer to the bounding box\n",
        "    buffer = thickness * 2 # Account for thickness\n",
        "    min_x = max(0, min_x - buffer)\n",
        "    min_y = max(0, min_y - buffer)\n",
        "    max_x = min(img_w, max_x + buffer)\n",
        "    max_y = min(img_h, max_y + buffer)\n",
        "\n",
        "    return {\"class\": \"scratch\", \"bbox\": [min_x, min_y, max_x, max_y]}\n",
        "\n",
        "\n",
        "def draw_particle(image, particle_color=(200, 200, 200)):\n",
        "    \"\"\"Draws a random circular particle on the image and returns its bounding box.\"\"\"\n",
        "    img_h, img_w, _ = image.shape\n",
        "\n",
        "    radius = random.randint(1, 5) # Particle size\n",
        "    center_x = random.randint(radius, img_w - radius)\n",
        "    center_y = random.randint(radius, img_h - radius)\n",
        "\n",
        "    cv2.circle(image, (center_x, center_y), radius, particle_color, -1) # -1 fills the circle\n",
        "\n",
        "    # Calculate bounding box\n",
        "    min_x = max(0, center_x - radius)\n",
        "    min_y = max(0, center_y - radius)\n",
        "    max_x = min(img_w, center_x + radius)\n",
        "    max_y = min(img_h, center_y + radius)\n",
        "\n",
        "    return {\"class\": \"particle\", \"bbox\": [min_x, min_y, max_x, max_y]}\n",
        "\n",
        "def draw_blob(image, blob_color=(100, 100, 100)):\n",
        "    \"\"\"Draws a random irregular blob on the image and returns its bounding box.\"\"\"\n",
        "    img_h, img_w, _ = image.shape\n",
        "\n",
        "    num_vertices = random.randint(5, 10) # Number of points to define the blob\n",
        "    max_radius = random.randint(10, 30)  # Max size of the blob\n",
        "\n",
        "    # Starting point for the blob\n",
        "    center_x = random.randint(max_radius, img_w - max_radius)\n",
        "    center_y = random.randint(max_radius, img_h - max_radius)\n",
        "\n",
        "    points = []\n",
        "    for _ in range(num_vertices):\n",
        "        angle = random.uniform(0, 2 * np.pi)\n",
        "        radius = random.uniform(0, max_radius)\n",
        "        x = int(center_x + radius * np.cos(angle))\n",
        "        y = int(center_y + radius * np.sin(angle))\n",
        "        points.append([x, y])\n",
        "\n",
        "    # Convert to NumPy array for OpenCV\n",
        "    points = np.array(points, np.int32).reshape((-1, 1, 2))\n",
        "\n",
        "    cv2.fillPoly(image, [points], blob_color)\n",
        "\n",
        "    # Calculate bounding box for the blob\n",
        "    x_coords = [p[0][0] for p in points]\n",
        "    y_coords = [p[0][1] for p in points]\n",
        "    min_x = max(0, min(x_coords))\n",
        "    min_y = max(0, min(y_coords))\n",
        "    max_x = min(img_w, max(x_coords))\n",
        "    max_y = min(img_h, max(y_coords))\n",
        "\n",
        "    return {\"class\": \"blob\", \"bbox\": [min_x, min_y, max_x, max_y]}"
      ],
      "metadata": {
        "id": "Ylt3RCzLFGx_"
      },
      "execution_count": 4,
      "outputs": []
    },
    {
      "cell_type": "code",
      "source": [
        "# Create a dictionary to map class names to IDs (important for models like YOLO)\n",
        "CLASS_NAMES = [\"scratch\", \"particle\", \"blob\"]\n",
        "CLASS_TO_ID = {name: i for i, name in enumerate(CLASS_NAMES)}\n",
        "\n",
        "print(f\"Generating {NUM_IMAGES} synthetic images...\")\n",
        "\n",
        "all_annotations = [] # To store all annotations if we want a single annotation file later (e.g., COCO format)\n",
        "\n",
        "for i in range(NUM_IMAGES):\n",
        "    # 1. Create a base wafer image\n",
        "    wafer_image = create_base_wafer(IMAGE_WIDTH, IMAGE_HEIGHT)\n",
        "\n",
        "    current_image_annotations = [] # Annotations for the current image\n",
        "\n",
        "    # 2. Add random scratches\n",
        "    num_scratches = random.randint(0, MAX_SCRATCHES_PER_IMAGE)\n",
        "    for _ in range(num_scratches):\n",
        "        # Pass a copy of the image so subsequent drawings don't affect previous defect bounding box calculation\n",
        "        annotation = draw_scratch(wafer_image, SCRATCH_COLOR)\n",
        "        current_image_annotations.append(annotation)\n",
        "\n",
        "    # 3. Add random particles\n",
        "    num_particles = random.randint(0, MAX_PARTICLES_PER_IMAGE)\n",
        "    for _ in range(num_particles):\n",
        "        annotation = draw_particle(wafer_image, PARTICLE_COLOR)\n",
        "        current_image_annotations.append(annotation)\n",
        "\n",
        "    # 4. Add random blobs\n",
        "    num_blobs = random.randint(0, MAX_BLOBS_PER_IMAGE)\n",
        "    for _ in range(num_blobs):\n",
        "        annotation = draw_blob(wafer_image, BLOB_COLOR)\n",
        "        current_image_annotations.append(annotation)\n",
        "\n",
        "    # 5. Save the image\n",
        "    image_filename = os.path.join(OUTPUT_DIR, \"images\", f\"wafer_{i:04d}.png\")\n",
        "    cv2.imwrite(image_filename, wafer_image)\n",
        "\n",
        "    # 6. Save the annotations for this image\n",
        "    annotation_filename = os.path.join(OUTPUT_DIR, \"annotations\", f\"wafer_{i:04d}.json\")\n",
        "\n",
        "    # Convert class names to class IDs and ensure all numbers are standard Python ints\n",
        "    formatted_annotations = []\n",
        "    for ann in current_image_annotations:\n",
        "        formatted_ann = ann.copy()\n",
        "        formatted_ann[\"class_id\"] = CLASS_TO_ID[ann[\"class\"]]\n",
        "        # Convert bounding box coordinates to standard Python integers\n",
        "        formatted_ann[\"bbox\"] = [int(coord) for coord in ann[\"bbox\"]]\n",
        "        formatted_annotations.append(formatted_ann)\n",
        "\n",
        "    with open(annotation_filename, 'w') as f:\n",
        "        json.dump(formatted_annotations, f, indent=4) # indent makes it readable\n",
        "\n",
        "    if (i + 1) % 100 == 0:\n",
        "        print(f\"Generated {i + 1}/{NUM_IMAGES} images.\")\n",
        "\n",
        "print(f\"\\nFinished generating {NUM_IMAGES} synthetic images and annotations in '{OUTPUT_DIR}'.\")# Create a dictionary to map class names to IDs (important for models like YOLO)\n",
        "CLASS_NAMES = [\"scratch\", \"particle\", \"blob\"]\n",
        "CLASS_TO_ID = {name: i for i, name in enumerate(CLASS_NAMES)}\n",
        "\n",
        "print(f\"Generating {NUM_IMAGES} synthetic images...\")\n",
        "\n",
        "all_annotations = [] # To store all annotations if we want a single annotation file later (e.g., COCO format)\n",
        "\n",
        "for i in range(NUM_IMAGES):\n",
        "    # 1. Create a base wafer image\n",
        "    wafer_image = create_base_wafer(IMAGE_WIDTH, IMAGE_HEIGHT)\n",
        "\n",
        "    current_image_annotations = [] # Annotations for the current image\n",
        "\n",
        "    # 2. Add random scratches\n",
        "    num_scratches = random.randint(0, MAX_SCRATCHES_PER_IMAGE)\n",
        "    for _ in range(num_scratches):\n",
        "        # Pass a copy of the image so subsequent drawings don't affect previous defect bounding box calculation\n",
        "        annotation = draw_scratch(wafer_image, SCRATCH_COLOR)\n",
        "        current_image_annotations.append(annotation)\n",
        "\n",
        "    # 3. Add random particles\n",
        "    num_particles = random.randint(0, MAX_PARTICLES_PER_IMAGE)\n",
        "    for _ in range(num_particles):\n",
        "        annotation = draw_particle(wafer_image, PARTICLE_COLOR)\n",
        "        current_image_annotations.append(annotation)\n",
        "\n",
        "    # 4. Add random blobs\n",
        "    num_blobs = random.randint(0, MAX_BLOBS_PER_IMAGE)\n",
        "    for _ in range(num_blobs):\n",
        "        annotation = draw_blob(wafer_image, BLOB_COLOR)\n",
        "        current_image_annotations.append(annotation)\n",
        "\n",
        "    # 5. Save the image\n",
        "    image_filename = os.path.join(OUTPUT_DIR, \"images\", f\"wafer_{i:04d}.png\")\n",
        "    cv2.imwrite(image_filename, wafer_image)\n",
        "\n",
        "    # 6. Save the annotations for this image\n",
        "    annotation_filename = os.path.join(OUTPUT_DIR, \"annotations\", f\"wafer_{i:04d}.json\")\n",
        "\n",
        "    # Convert class names to class IDs and ensure all numbers are standard Python ints\n",
        "    formatted_annotations = []\n",
        "    for ann in current_image_annotations:\n",
        "        formatted_ann = ann.copy()\n",
        "        formatted_ann[\"class_id\"] = CLASS_TO_ID[ann[\"class\"]]\n",
        "        # Convert bounding box coordinates to standard Python integers\n",
        "        formatted_ann[\"bbox\"] = [int(coord) for coord in ann[\"bbox\"]]\n",
        "        formatted_annotations.append(formatted_ann)\n",
        "\n",
        "    with open(annotation_filename, 'w') as f:\n",
        "        json.dump(formatted_annotations, f, indent=4) # indent makes it readable\n",
        "\n",
        "    if (i + 1) % 100 == 0:\n",
        "        print(f\"Generated {i + 1}/{NUM_IMAGES} images.\")\n",
        "\n",
        "print(f\"\\nFinished generating {NUM_IMAGES} synthetic images and annotations in '{OUTPUT_DIR}'.\")"
      ],
      "metadata": {
        "colab": {
          "base_uri": "https://localhost:8080/"
        },
        "id": "_7FSn2fiFlhL",
        "outputId": "2281990a-68f8-420d-d9fc-5e642dbbfcde"
      },
      "execution_count": 5,
      "outputs": [
        {
          "output_type": "stream",
          "name": "stdout",
          "text": [
            "Generating 1000 synthetic images...\n",
            "Generated 100/1000 images.\n",
            "Generated 200/1000 images.\n",
            "Generated 300/1000 images.\n",
            "Generated 400/1000 images.\n",
            "Generated 500/1000 images.\n",
            "Generated 600/1000 images.\n",
            "Generated 700/1000 images.\n",
            "Generated 800/1000 images.\n",
            "Generated 900/1000 images.\n",
            "Generated 1000/1000 images.\n",
            "\n",
            "Finished generating 1000 synthetic images and annotations in 'synthetic_defect_data'.\n",
            "Generating 1000 synthetic images...\n",
            "Generated 100/1000 images.\n",
            "Generated 200/1000 images.\n",
            "Generated 300/1000 images.\n",
            "Generated 400/1000 images.\n",
            "Generated 500/1000 images.\n",
            "Generated 600/1000 images.\n",
            "Generated 700/1000 images.\n",
            "Generated 800/1000 images.\n",
            "Generated 900/1000 images.\n",
            "Generated 1000/1000 images.\n",
            "\n",
            "Finished generating 1000 synthetic images and annotations in 'synthetic_defect_data'.\n"
          ]
        }
      ]
    },
    {
      "cell_type": "markdown",
      "source": [],
      "metadata": {
        "id": "XvR4NK1JFlTh"
      }
    },
    {
      "cell_type": "code",
      "source": [
        "import cv2\n",
        "import numpy as np\n",
        "import os\n",
        "import json\n",
        "from matplotlib import pyplot as plt\n",
        "\n",
        "# --- Configuration (match these to your generation script) ---\n",
        "OUTPUT_DIR = \"synthetic_defect_data\"\n",
        "NUM_IMAGES_TO_VIEW = 5 # How many random images you want to inspect\n",
        "\n",
        "# Define colors for different defect types (BGR format)\n",
        "# You can customize these if you want different colors for visualization\n",
        "VIS_COLORS = {\n",
        "    \"scratch\": (0, 0, 255),  # Red\n",
        "    \"particle\": (0, 255, 0), # Green\n",
        "    \"blob\": (255, 0, 0)      # Blue\n",
        "}\n",
        "\n",
        "# --- Function to draw bounding boxes ---\n",
        "def draw_annotations_on_image(image, annotations, class_to_name_map):\n",
        "    \"\"\"Draws bounding boxes and labels on an image based on annotations.\"\"\"\n",
        "    display_image = image.copy()\n",
        "\n",
        "    for ann in annotations:\n",
        "        class_name = class_to_name_map[str(ann[\"class_id\"])] # class_id might be int, ensure string for dict lookup if keys are strings\n",
        "        bbox = ann[\"bbox\"] # [x_min, y_min, x_max, y_max]\n",
        "\n",
        "        x_min, y_min, x_max, y_max = bbox\n",
        "\n",
        "        color = VIS_COLORS.get(class_name, (255, 255, 255)) # Default to white if not found\n",
        "\n",
        "        # Draw rectangle\n",
        "        cv2.rectangle(display_image, (x_min, y_min), (x_max, y_max), color, 2) # Thickness 2\n",
        "\n",
        "        # Put label\n",
        "        text = f\"{class_name}\"\n",
        "        cv2.putText(display_image, text, (x_min, y_min - 10),\n",
        "                    cv2.FONT_HERSHEY_SIMPLEX, 0.5, color, 1) # Font scale 0.5, thickness 1\n",
        "    return display_image\n",
        "\n",
        "# --- Prepare class name mapping for visualization ---\n",
        "# Recreate CLASS_NAMES and CLASS_TO_ID from previous cell or define directly\n",
        "CLASS_NAMES = [\"scratch\", \"particle\", \"blob\"]\n",
        "CLASS_ID_TO_NAME = {str(i): name for i, name in enumerate(CLASS_NAMES)} # Ensure keys are strings\n",
        "\n",
        "# --- Get a list of all generated images ---\n",
        "image_files = [f for f in os.listdir(os.path.join(OUTPUT_DIR, \"images\")) if f.endswith('.png')]\n",
        "\n",
        "if not image_files:\n",
        "    print(f\"No images found in {os.path.join(OUTPUT_DIR, 'images')}. Please ensure data generation completed.\")\n",
        "else:\n",
        "    print(f\"Found {len(image_files)} images. Displaying {min(NUM_IMAGES_TO_VIEW, len(image_files))} random images...\")\n",
        "\n",
        "    # Select random images to display\n",
        "    random_image_files = random.sample(image_files, min(NUM_IMAGES_TO_VIEW, len(image_files)))\n",
        "\n",
        "    plt.figure(figsize=(15, 5 * NUM_IMAGES_TO_VIEW)) # Adjust figure size dynamically\n",
        "\n",
        "    for idx, img_file in enumerate(random_image_files):\n",
        "        img_path = os.path.join(OUTPUT_DIR, \"images\", img_file)\n",
        "\n",
        "        # Annotation file has the same base name, but .json extension\n",
        "        annotation_file = img_file.replace(\".png\", \".json\")\n",
        "        annotation_path = os.path.join(OUTPUT_DIR, \"annotations\", annotation_file)\n",
        "\n",
        "        # Load image\n",
        "        img = cv2.imread(img_path)\n",
        "        # OpenCV loads as BGR, matplotlib expects RGB, so convert\n",
        "        img_rgb = cv2.cvtColor(img, cv2.COLOR_BGR2RGB)\n",
        "\n",
        "        # Load annotations\n",
        "        annotations = []\n",
        "        if os.path.exists(annotation_path):\n",
        "            with open(annotation_path, 'r') as f:\n",
        "                annotations = json.load(f)\n",
        "        else:\n",
        "            print(f\"Warning: Annotation file not found for {img_file}\")\n",
        "            continue\n",
        "\n",
        "        # Draw annotations on the image\n",
        "        img_with_boxes = draw_annotations_on_image(img_rgb, annotations, CLASS_ID_TO_NAME)\n",
        "\n",
        "        # Display the image\n",
        "        plt.subplot(NUM_IMAGES_TO_VIEW, 1, idx + 1)\n",
        "        plt.imshow(img_with_boxes)\n",
        "        plt.title(f\"Image: {img_file} - Defects: {len(annotations)}\")\n",
        "        plt.axis('off') # Hide axes\n",
        "\n",
        "    plt.tight_layout() # Adjust subplot params for a tight layout\n",
        "    plt.show()\n"
      ],
      "metadata": {
        "colab": {
          "base_uri": "https://localhost:8080/",
          "height": 1000
        },
        "id": "xsXjoSvsF_LD",
        "outputId": "c4c87647-b2b8-452a-c868-d8d9d3a32d96"
      },
      "execution_count": 6,
      "outputs": [
        {
          "output_type": "stream",
          "name": "stdout",
          "text": [
            "Found 1000 images. Displaying 5 random images...\n"
          ]
        },
        {
          "output_type": "display_data",
          "data": {
            "text/plain": [
              "<Figure size 1500x2500 with 5 Axes>"
            ],
            "image/png": "[encoded data removed]"
          },
          "metadata": {}
        }
      ]
    },
    {
      "cell_type": "code",
      "source": [
        "import os\n",
        "import json\n",
        "import cv2 # We need this to get image dimensions\n",
        "\n",
        "# --- Configuration (match these to your generation script) ---\n",
        "OUTPUT_DIR = \"synthetic_defect_data\"\n",
        "IMAGE_WIDTH = 512\n",
        "IMAGE_HEIGHT = 512\n",
        "\n",
        "# Class mapping (must be consistent with your generation script)\n",
        "CLASS_NAMES = [\"scratch\", \"particle\", \"blob\"]\n",
        "CLASS_TO_ID = {name: i for i, name in enumerate(CLASS_NAMES)}\n",
        "\n",
        "# Directory for YOLO format labels\n",
        "YOLO_LABELS_DIR = os.path.join(OUTPUT_DIR, \"labels\")\n",
        "os.makedirs(YOLO_LABELS_DIR, exist_ok=True)\n",
        "\n",
        "print(f\"Converting annotations to YOLO format in '{YOLO_LABELS_DIR}'...\")\n",
        "\n",
        "# Get a list of all generated annotation JSON files\n",
        "json_annotation_files = [f for f in os.listdir(os.path.join(OUTPUT_DIR, \"annotations\")) if f.endswith('.json')]\n",
        "\n",
        "if not json_annotation_files:\n",
        "    print(f\"No JSON annotation files found in {os.path.join(OUTPUT_DIR, 'annotations')}. Please ensure data generation completed.\")\n",
        "else:\n",
        "    for json_file in json_annotation_files:\n",
        "        json_path = os.path.join(OUTPUT_DIR, \"annotations\", json_file)\n",
        "\n",
        "        # The corresponding YOLO label file will have the same base name but .txt extension\n",
        "        yolo_label_filename = json_file.replace(\".json\", \".txt\")\n",
        "        yolo_label_path = os.path.join(YOLO_LABELS_DIR, yolo_label_filename)\n",
        "\n",
        "        annotations = []\n",
        "        with open(json_path, 'r') as f:\n",
        "            annotations = json.load(f)\n",
        "\n",
        "        yolo_lines = []\n",
        "        for ann in annotations:\n",
        "            class_id = ann[\"class_id\"]\n",
        "            bbox = ann[\"bbox\"] # [x_min, y_min, x_max, y_max]\n",
        "\n",
        "            x_min, y_min, x_max, y_max = bbox\n",
        "\n",
        "            # Calculate width and height of the bounding box\n",
        "            bbox_width = x_max - x_min\n",
        "            bbox_height = y_max - y_min\n",
        "\n",
        "            # Calculate center coordinates\n",
        "            x_center = (x_min + x_max) / 2\n",
        "            y_center = (y_min + y_max) / 2\n",
        "\n",
        "            # Normalize coordinates by image width and height\n",
        "            x_center_norm = x_center / IMAGE_WIDTH\n",
        "            y_center_norm = y_center / IMAGE_HEIGHT\n",
        "            bbox_width_norm = bbox_width / IMAGE_WIDTH\n",
        "            bbox_height_norm = bbox_height / IMAGE_HEIGHT\n",
        "\n",
        "            # Format the line for YOLO\n",
        "            yolo_line = f\"{class_id} {x_center_norm:.6f} {y_center_norm:.6f} {bbox_width_norm:.6f} {bbox_height_norm:.6f}\"\n",
        "            yolo_lines.append(yolo_line)\n",
        "\n",
        "        # Write all YOLO lines for the current image to its .txt file\n",
        "        with open(yolo_label_path, 'w') as f:\n",
        "            f.write(\"\\n\".join(yolo_lines))\n",
        "\n",
        "    print(f\"\\nFinished converting {len(json_annotation_files)} annotation files to YOLO format.\")\n",
        "    print(f\"YOLO labels are saved in '{YOLO_LABELS_DIR}'.\")\n",
        "\n",
        "# You can quickly inspect one of the generated YOLO files\n",
        "# First, list a few files to pick one:\n",
        "# print(\"\\nSample YOLO label files:\")\n",
        "# print(os.listdir(YOLO_LABELS_DIR)[:5])\n",
        "\n",
        "# Then, open and print its content (replace with one of your actual filenames)\n",
        "# sample_yolo_file = os.path.join(YOLO_LABELS_DIR, \"wafer_0000.txt\")\n",
        "# if os.path.exists(sample_yolo_file):\n",
        "#    print(f\"\\nContent of {sample_yolo_file}:\")\n",
        "#    with open(sample_yolo_file, 'r') as f:\n",
        "#        print(f.read())"
      ],
      "metadata": {
        "colab": {
          "base_uri": "https://localhost:8080/"
        },
        "id": "WEe1ZMHWGehl",
        "outputId": "0fa42e68-3324-487c-e46d-d43f58889815"
      },
      "execution_count": 7,
      "outputs": [
        {
          "output_type": "stream",
          "name": "stdout",
          "text": [
            "Converting annotations to YOLO format in 'synthetic_defect_data/labels'...\n",
            "\n",
            "Finished converting 1000 annotation files to YOLO format.\n",
            "YOLO labels are saved in 'synthetic_defect_data/labels'.\n"
          ]
        }
      ]
    },
    {
      "cell_type": "code",
      "source": [
        "!pip install ultralytics"
      ],
      "metadata": {
        "colab": {
          "base_uri": "https://localhost:8080/"
        },
        "id": "ZSmwgmTuG68z",
        "outputId": "737dfc79-1a72-46d1-faac-aa973715d8d3"
      },
      "execution_count": 8,
      "outputs": [
        {
          "output_type": "stream",
          "name": "stdout",
          "text": [
            "Requirement already satisfied: ultralytics in /usr/local/lib/python3.11/dist-packages (8.3.160)\n",
            "Requirement already satisfied: numpy>=1.23.0 in /usr/local/lib/python3.11/dist-packages (from ultralytics) (2.0.2)\n",
            "Requirement already satisfied: matplotlib>=3.3.0 in /usr/local/lib/python3.11/dist-packages (from ultralytics) (3.10.0)\n",
            "Requirement already satisfied: opencv-python>=4.6.0 in /usr/local/lib/python3.11/dist-packages (from ultralytics) (4.11.0.86)\n",
            "Requirement already satisfied: pillow>=7.1.2 in /usr/local/lib/python3.11/dist-packages (from ultralytics) (11.2.1)\n",
            "Requirement already satisfied: pyyaml>=5.3.1 in /usr/local/lib/python3.11/dist-packages (from ultralytics) (6.0.2)\n",
            "Requirement already satisfied: requests>=2.23.0 in /usr/local/lib/python3.11/dist-packages (from ultralytics) (2.32.3)\n",
            "Requirement already satisfied: scipy>=1.4.1 in /usr/local/lib/python3.11/dist-packages (from ultralytics) (1.15.3)\n",
            "Requirement already satisfied: torch>=1.8.0 in /usr/local/lib/python3.11/dist-packages (from ultralytics) (2.6.0+cu124)\n",
            "Requirement already satisfied: torchvision>=0.9.0 in /usr/local/lib/python3.11/dist-packages (from ultralytics) (0.21.0+cu124)\n",
            "Requirement already satisfied: tqdm>=4.64.0 in /usr/local/lib/python3.11/dist-packages (from ultralytics) (4.67.1)\n",
            "Requirement already satisfied: psutil in /usr/local/lib/python3.11/dist-packages (from ultralytics) (5.9.5)\n",
            "Requirement already satisfied: py-cpuinfo in /usr/local/lib/python3.11/dist-packages (from ultralytics) (9.0.0)\n",
            "Requirement already satisfied: pandas>=1.1.4 in /usr/local/lib/python3.11/dist-packages (from ultralytics) (2.2.2)\n",
            "Requirement already satisfied: ultralytics-thop>=2.0.0 in /usr/local/lib/python3.11/dist-packages (from ultralytics) (2.0.14)\n",
            "Requirement already satisfied: contourpy>=1.0.1 in /usr/local/lib/python3.11/dist-packages (from matplotlib>=3.3.0->ultralytics) (1.3.2)\n",
            "Requirement already satisfied: cycler>=0.10 in /usr/local/lib/python3.11/dist-packages (from matplotlib>=3.3.0->ultralytics) (0.12.1)\n",
            "Requirement already satisfied: fonttools>=4.22.0 in /usr/local/lib/python3.11/dist-packages (from matplotlib>=3.3.0->ultralytics) (4.58.4)\n",
            "Requirement already satisfied: kiwisolver>=1.3.1 in /usr/local/lib/python3.11/dist-packages (from matplotlib>=3.3.0->ultralytics) (1.4.8)\n",
            "Requirement already satisfied: packaging>=20.0 in /usr/local/lib/python3.11/dist-packages (from matplotlib>=3.3.0->ultralytics) (24.2)\n",
            "Requirement already satisfied: pyparsing>=2.3.1 in /usr/local/lib/python3.11/dist-packages (from matplotlib>=3.3.0->ultralytics) (3.2.3)\n",
            "Requirement already satisfied: python-dateutil>=2.7 in /usr/local/lib/python3.11/dist-packages (from matplotlib>=3.3.0->ultralytics) (2.9.0.post0)\n",
            "Requirement already satisfied: pytz>=2020.1 in /usr/local/lib/python3.11/dist-packages (from pandas>=1.1.4->ultralytics) (2025.2)\n",
            "Requirement already satisfied: tzdata>=2022.7 in /usr/local/lib/python3.11/dist-packages (from pandas>=1.1.4->ultralytics) (2025.2)\n",
            "Requirement already satisfied: charset-normalizer<4,>=2 in /usr/local/lib/python3.11/dist-packages (from requests>=2.23.0->ultralytics) (3.4.2)\n",
            "Requirement already satisfied: idna<4,>=2.5 in /usr/local/lib/python3.11/dist-packages (from requests>=2.23.0->ultralytics) (3.10)\n",
            "Requirement already satisfied: urllib3<3,>=1.21.1 in /usr/local/lib/python3.11/dist-packages (from requests>=2.23.0->ultralytics) (2.4.0)\n",
            "Requirement already satisfied: certifi>=2017.4.17 in /usr/local/lib/python3.11/dist-packages (from requests>=2.23.0->ultralytics) (2025.6.15)\n",
            "Requirement already satisfied: filelock in /usr/local/lib/python3.11/dist-packages (from torch>=1.8.0->ultralytics) (3.18.0)\n",
            "Requirement already satisfied: typing-extensions>=4.10.0 in /usr/local/lib/python3.11/dist-packages (from torch>=1.8.0->ultralytics) (4.14.0)\n",
            "Requirement already satisfied: networkx in /usr/local/lib/python3.11/dist-packages (from torch>=1.8.0->ultralytics) (3.5)\n",
            "Requirement already satisfied: jinja2 in /usr/local/lib/python3.11/dist-packages (from torch>=1.8.0->ultralytics) (3.1.6)\n",
            "Requirement already satisfied: fsspec in /usr/local/lib/python3.11/dist-packages (from torch>=1.8.0->ultralytics) (2025.3.2)\n",
            "Requirement already satisfied: nvidia-cuda-nvrtc-cu12==12.4.127 in /usr/local/lib/python3.11/dist-packages (from torch>=1.8.0->ultralytics) (12.4.127)\n",
            "Requirement already satisfied: nvidia-cuda-runtime-cu12==12.4.127 in /usr/local/lib/python3.11/dist-packages (from torch>=1.8.0->ultralytics) (12.4.127)\n",
            "Requirement already satisfied: nvidia-cuda-cupti-cu12==12.4.127 in /usr/local/lib/python3.11/dist-packages (from torch>=1.8.0->ultralytics) (12.4.127)\n",
            "Requirement already satisfied: nvidia-cudnn-cu12==9.1.0.70 in /usr/local/lib/python3.11/dist-packages (from torch>=1.8.0->ultralytics) (9.1.0.70)\n",
            "Requirement already satisfied: nvidia-cublas-cu12==12.4.5.8 in /usr/local/lib/python3.11/dist-packages (from torch>=1.8.0->ultralytics) (12.4.5.8)\n",
            "Requirement already satisfied: nvidia-cufft-cu12==11.2.1.3 in /usr/local/lib/python3.11/dist-packages (from torch>=1.8.0->ultralytics) (11.2.1.3)\n",
            "Requirement already satisfied: nvidia-curand-cu12==10.3.5.147 in /usr/local/lib/python3.11/dist-packages (from torch>=1.8.0->ultralytics) (10.3.5.147)\n",
            "Requirement already satisfied: nvidia-cusolver-cu12==11.6.1.9 in /usr/local/lib/python3.11/dist-packages (from torch>=1.8.0->ultralytics) (11.6.1.9)\n",
            "Requirement already satisfied: nvidia-cusparse-cu12==12.3.1.170 in /usr/local/lib/python3.11/dist-packages (from torch>=1.8.0->ultralytics) (12.3.1.170)\n",
            "Requirement already satisfied: nvidia-cusparselt-cu12==0.6.2 in /usr/local/lib/python3.11/dist-packages (from torch>=1.8.0->ultralytics) (0.6.2)\n",
            "Requirement already satisfied: nvidia-nccl-cu12==2.21.5 in /usr/local/lib/python3.11/dist-packages (from torch>=1.8.0->ultralytics) (2.21.5)\n",
            "Requirement already satisfied: nvidia-nvtx-cu12==12.4.127 in /usr/local/lib/python3.11/dist-packages (from torch>=1.8.0->ultralytics) (12.4.127)\n",
            "Requirement already satisfied: nvidia-nvjitlink-cu12==12.4.127 in /usr/local/lib/python3.11/dist-packages (from torch>=1.8.0->ultralytics) (12.4.127)\n",
            "Requirement already satisfied: triton==3.2.0 in /usr/local/lib/python3.11/dist-packages (from torch>=1.8.0->ultralytics) (3.2.0)\n",
            "Requirement already satisfied: sympy==1.13.1 in /usr/local/lib/python3.11/dist-packages (from torch>=1.8.0->ultralytics) (1.13.1)\n",
            "Requirement already satisfied: mpmath<1.4,>=1.1.0 in /usr/local/lib/python3.11/dist-packages (from sympy==1.13.1->torch>=1.8.0->ultralytics) (1.3.0)\n",
            "Requirement already satisfied: six>=1.5 in /usr/local/lib/python3.11/dist-packages (from python-dateutil>=2.7->matplotlib>=3.3.0->ultralytics) (1.17.0)\n",
            "Requirement already satisfied: MarkupSafe>=2.0 in /usr/local/lib/python3.11/dist-packages (from jinja2->torch>=1.8.0->ultralytics) (3.0.2)\n"
          ]
        }
      ]
    },
    {
      "cell_type": "code",
      "source": [
        "import os\n",
        "import shutil\n",
        "import random\n",
        "\n",
        "# --- Configuration (match these to previous steps) ---\n",
        "OUTPUT_DIR = \"synthetic_defect_data\"\n",
        "YOLO_ROOT_DIR = \"yolov8_dataset\" # This will be the root for YOLOv8 structure\n",
        "\n",
        "# Define paths for images and labels in the original structure\n",
        "IMAGES_SOURCE_DIR = os.path.join(OUTPUT_DIR, \"images\")\n",
        "LABELS_SOURCE_DIR = os.path.join(OUTPUT_DIR, \"labels\")\n",
        "\n",
        "# Define paths for the new YOLOv8 structure\n",
        "YOLO_IMAGES_TRAIN = os.path.join(YOLO_ROOT_DIR, \"images\", \"train\")\n",
        "YOLO_IMAGES_VAL = os.path.join(YOLO_ROOT_DIR, \"images\", \"val\")\n",
        "YOLO_LABELS_TRAIN = os.path.join(YOLO_ROOT_DIR, \"labels\", \"train\")\n",
        "YOLO_LABELS_VAL = os.path.join(YOLO_ROOT_DIR, \"labels\", \"val\")\n",
        "\n",
        "# Ensure all new directories exist\n",
        "os.makedirs(YOLO_IMAGES_TRAIN, exist_ok=True)\n",
        "os.makedirs(YOLO_IMAGES_VAL, exist_ok=True)\n",
        "os.makedirs(YOLO_LABELS_TRAIN, exist_ok=True)\n",
        "os.makedirs(YOLO_LABELS_VAL, exist_ok=True)\n",
        "\n",
        "# Get all image filenames\n",
        "all_image_files = [f for f in os.listdir(IMAGES_SOURCE_DIR) if f.endswith('.png')]\n",
        "random.shuffle(all_image_files) # Shuffle to ensure random split\n",
        "\n",
        "# Define split ratio\n",
        "train_ratio = 0.8\n",
        "train_split_index = int(len(all_image_files) * train_ratio)\n",
        "\n",
        "train_files = all_image_files[:train_split_index]\n",
        "val_files = all_image_files[train_split_index:]\n",
        "\n",
        "print(f\"Total images: {len(all_image_files)}\")\n",
        "print(f\"Training images: {len(train_files)}\")\n",
        "print(f\"Validation images: {len(val_files)}\")\n",
        "\n",
        "# --- Copy files to new YOLOv8 structure ---\n",
        "print(\"Copying training images and labels...\")\n",
        "for img_file in train_files:\n",
        "    label_file = img_file.replace(\".png\", \".txt\")\n",
        "    shutil.copy(os.path.join(IMAGES_SOURCE_DIR, img_file), YOLO_IMAGES_TRAIN)\n",
        "    shutil.copy(os.path.join(LABELS_SOURCE_DIR, label_file), YOLO_LABELS_TRAIN)\n",
        "\n",
        "print(\"Copying validation images and labels...\")\n",
        "for img_file in val_files:\n",
        "    label_file = img_file.replace(\".png\", \".txt\")\n",
        "    shutil.copy(os.path.join(IMAGES_SOURCE_DIR, img_file), YOLO_IMAGES_VAL)\n",
        "    shutil.copy(os.path.join(LABELS_SOURCE_DIR, label_file), YOLO_LABELS_VAL)\n",
        "\n",
        "print(\"\\nDataset organized for YOLOv8!\")\n",
        "\n",
        "# --- Create the dataset.yaml file ---\n",
        "DATA_YAML_PATH = os.path.join(YOLO_ROOT_DIR, \"dataset.yaml\")\n",
        "\n",
        "# Class names (must match the order of class_ids used in annotation generation)\n",
        "CLASS_NAMES = [\"scratch\", \"particle\", \"blob\"]\n",
        "nc = len(CLASS_NAMES) # Number of classes\n",
        "\n",
        "data_yaml_content = f\"\"\"\n",
        "path: ../{YOLO_ROOT_DIR} # Dataset root directory, relative to where YOLO will be run\n",
        "train: images/train    # train images (relative to 'path')\n",
        "val: images/val      # val images (relative to 'path')\n",
        "\n",
        "nc: {nc}  # number of classes\n",
        "names: {CLASS_NAMES} # class names\n",
        "\"\"\"\n",
        "\n",
        "with open(DATA_YAML_PATH, 'w') as f:\n",
        "    f.write(data_yaml_content)\n",
        "\n",
        "print(f\"\\nCreated dataset.yaml at '{DATA_YAML_PATH}':\")\n",
        "print(data_yaml_content)"
      ],
      "metadata": {
        "colab": {
          "base_uri": "https://localhost:8080/"
        },
        "id": "A0Iklbr0Ie3s",
        "outputId": "24923b13-cba6-4c30-cd87-6056cc143ed3"
      },
      "execution_count": 9,
      "outputs": [
        {
          "output_type": "stream",
          "name": "stdout",
          "text": [
            "Total images: 1000\n",
            "Training images: 800\n",
            "Validation images: 200\n",
            "Copying training images and labels...\n",
            "Copying validation images and labels...\n",
            "\n",
            "Dataset organized for YOLOv8!\n",
            "\n",
            "Created dataset.yaml at 'yolov8_dataset/dataset.yaml':\n",
            "\n",
            "path: ../yolov8_dataset # Dataset root directory, relative to where YOLO will be run\n",
            "train: images/train    # train images (relative to 'path')\n",
            "val: images/val      # val images (relative to 'path')\n",
            "\n",
            "nc: 3  # number of classes\n",
            "names: ['scratch', 'particle', 'blob'] # class names\n",
            "\n"
          ]
        }
      ]
    },
    {
      "cell_type": "code",
      "source": [
        "from ultralytics import YOLO\n",
        "import os\n",
        "\n",
        "# --- Configuration (match these to previous steps) ---\n",
        "YOLO_ROOT_DIR = \"yolov8_dataset\" # This is where your dataset.yaml is located\n",
        "DATA_YAML_PATH = os.path.join(YOLO_ROOT_DIR, \"dataset.yaml\")\n",
        "\n",
        "# --- Model Training Parameters ---\n",
        "# We'll use the 'nano' model for a start - it's fast and light\n",
        "MODEL_NAME = 'yolov8n.pt' # 'n' for nano, 's' for small, 'm' for medium etc.\n",
        "EPOCHS = 50 # Number of training epochs (iterations over the dataset)\n",
        "BATCH_SIZE = 16 # Adjust this based on your Colab RAM. Start small, increase if no issues.\n",
        "IMG_SIZE = 512 # Image size for training (must match your generated image size)\n",
        "PROJECT_NAME = \"defect_detection_project\" # Name for the training run results\n",
        "RUN_NAME = \"yolov8n_synthetic_data\" # Name for this specific training experiment\n",
        "\n",
        "# Load a pre-trained YOLOv8n model\n",
        "# This downloads the model weights if you don't have them\n",
        "model = YOLO(MODEL_NAME)\n",
        "\n",
        "print(f\"Starting training with model: {MODEL_NAME}\")\n",
        "print(f\"Dataset config: {DATA_YAML_PATH}\")\n",
        "print(f\"Epochs: {EPOCHS}, Batch Size: {BATCH_SIZE}, Image Size: {IMG_SIZE}\")\n",
        "\n",
        "# Train the model\n",
        "results = model.train(\n",
        "    data=DATA_YAML_PATH,\n",
        "    epochs=EPOCHS,\n",
        "    imgsz=IMG_SIZE,\n",
        "    batch=BATCH_SIZE,\n",
        "    name=RUN_NAME,\n",
        "    project=PROJECT_NAME,\n",
        "    seed=42 # For reproducibility\n",
        ")\n",
        "\n",
        "print(\"\\nTraining completed!\")\n"
      ],
      "metadata": {
        "colab": {
          "base_uri": "https://localhost:8080/"
        },
        "id": "BrbZ-5CJIt4Q",
        "outputId": "a4fa6cf6-8677-44f2-f4cf-61b07b22b708"
      },
      "execution_count": 10,
      "outputs": [
        {
          "output_type": "stream",
          "name": "stdout",
          "text": [
            "Starting training with model: yolov8n.pt\n",
            "Dataset config: yolov8_dataset/dataset.yaml\n",
            "Epochs: 50, Batch Size: 16, Image Size: 512\n",
            "Ultralytics 8.3.160 🚀 Python-3.11.13 torch-2.6.0+cu124 CUDA:0 (Tesla T4, 15095MiB)\n",
            "\u001b[34m\u001b[1mengine/trainer: \u001b[0magnostic_nms=False, amp=True, augment=False, auto_augment=randaugment, batch=16, bgr=0.0, box=7.5, cache=False, cfg=None, classes=None, close_mosaic=10, cls=0.5, conf=None, copy_paste=0.0, copy_paste_mode=flip, cos_lr=False, cutmix=0.0, data=yolov8_dataset/dataset.yaml, degrees=0.0, deterministic=True, device=None, dfl=1.5, dnn=False, dropout=0.0, dynamic=False, embed=None, epochs=50, erasing=0.4, exist_ok=False, fliplr=0.5, flipud=0.0, format=torchscript, fraction=1.0, freeze=None, half=False, hsv_h=0.015, hsv_s=0.7, hsv_v=0.4, imgsz=512, int8=False, iou=0.7, keras=False, kobj=1.0, line_width=None, lr0=0.01, lrf=0.01, mask_ratio=4, max_det=300, mixup=0.0, mode=train, model=yolov8n.pt, momentum=0.937, mosaic=1.0, multi_scale=False, name=yolov8n_synthetic_data3, nbs=64, nms=False, opset=None, optimize=False, optimizer=auto, overlap_mask=True, patience=100, perspective=0.0, plots=True, pose=12.0, pretrained=True, profile=False, project=defect_detection_project, rect=False, resume=False, retina_masks=False, save=True, save_conf=False, save_crop=False, save_dir=defect_detection_project/yolov8n_synthetic_data3, save_frames=False, save_json=False, save_period=-1, save_txt=False, scale=0.5, seed=42, shear=0.0, show=False, show_boxes=True, show_conf=True, show_labels=True, simplify=True, single_cls=False, source=None, split=val, stream_buffer=False, task=detect, time=None, tracker=botsort.yaml, translate=0.1, val=True, verbose=True, vid_stride=1, visualize=False, warmup_bias_lr=0.1, warmup_epochs=3.0, warmup_momentum=0.8, weight_decay=0.0005, workers=8, workspace=None\n",
            "Overriding model.yaml nc=80 with nc=3\n",
            "\n",
            "                   from  n    params  module                                       arguments                     \n",
            "  0                  -1  1       464  ultralytics.nn.modules.conv.Conv             [3, 16, 3, 2]                 \n",
            "  1                  -1  1      4672  ultralytics.nn.modules.conv.Conv             [16, 32, 3, 2]                \n",
            "  2                  -1  1      7360  ultralytics.nn.modules.block.C2f             [32, 32, 1, True]             \n",
            "  3                  -1  1     18560  ultralytics.nn.modules.conv.Conv             [32, 64, 3, 2]                \n",
            "  4                  -1  2     49664  ultralytics.nn.modules.block.C2f             [64, 64, 2, True]             \n",
            "  5                  -1  1     73984  ultralytics.nn.modules.conv.Conv             [64, 128, 3, 2]               \n",
            "  6                  -1  2    197632  ultralytics.nn.modules.block.C2f             [128, 128, 2, True]           \n",
            "  7                  -1  1    295424  ultralytics.nn.modules.conv.Conv             [128, 256, 3, 2]              \n",
            "  8                  -1  1    460288  ultralytics.nn.modules.block.C2f             [256, 256, 1, True]           \n",
            "  9                  -1  1    164608  ultralytics.nn.modules.block.SPPF            [256, 256, 5]                 \n",
            " 10                  -1  1         0  torch.nn.modules.upsampling.Upsample         [None, 2, 'nearest']          \n",
            " 11             [-1, 6]  1         0  ultralytics.nn.modules.conv.Concat           [1]                           \n",
            " 12                  -1  1    148224  ultralytics.nn.modules.block.C2f             [384, 128, 1]                 \n",
            " 13                  -1  1         0  torch.nn.modules.upsampling.Upsample         [None, 2, 'nearest']          \n",
            " 14             [-1, 4]  1         0  ultralytics.nn.modules.conv.Concat           [1]                           \n",
            " 15                  -1  1     37248  ultralytics.nn.modules.block.C2f             [192, 64, 1]                  \n",
            " 16                  -1  1     36992  ultralytics.nn.modules.conv.Conv             [64, 64, 3, 2]                \n",
            " 17            [-1, 12]  1         0  ultralytics.nn.modules.conv.Concat           [1]                           \n",
            " 18                  -1  1    123648  ultralytics.nn.modules.block.C2f             [192, 128, 1]                 \n",
            " 19                  -1  1    147712  ultralytics.nn.modules.conv.Conv             [128, 128, 3, 2]              \n",
            " 20             [-1, 9]  1         0  ultralytics.nn.modules.conv.Concat           [1]                           \n",
            " 21                  -1  1    493056  ultralytics.nn.modules.block.C2f             [384, 256, 1]                 \n",
            " 22        [15, 18, 21]  1    751897  ultralytics.nn.modules.head.Detect           [3, [64, 128, 256]]           \n",
            "Model summary: 129 layers, 3,011,433 parameters, 3,011,417 gradients, 8.2 GFLOPs\n",
            "\n",
            "Transferred 319/355 items from pretrained weights\n",
            "Freezing layer 'model.22.dfl.conv.weight'\n",
            "\u001b[34m\u001b[1mAMP: \u001b[0mrunning Automatic Mixed Precision (AMP) checks...\n",
            "\u001b[34m\u001b[1mAMP: \u001b[0mchecks passed ✅\n",
            "\u001b[34m\u001b[1mtrain: \u001b[0mFast image access ✅ (ping: 0.0±0.0 ms, read: 236.4±95.8 MB/s, size: 4.2 KB)\n"
          ]
        },
        {
          "output_type": "stream",
          "name": "stderr",
          "text": [
            "\u001b[34m\u001b[1mtrain: \u001b[0mScanning /content/yolov8_dataset/labels/train... 991 images, 16 backgrounds, 0 corrupt: 100%|██████████| 991/991 [00:00<00:00, 2302.34it/s]"
          ]
        },
        {
          "output_type": "stream",
          "name": "stdout",
          "text": [
            "\u001b[34m\u001b[1mtrain: \u001b[0mNew cache created: /content/yolov8_dataset/labels/train.cache\n"
          ]
        },
        {
          "output_type": "stream",
          "name": "stderr",
          "text": [
            "\n"
          ]
        },
        {
          "output_type": "stream",
          "name": "stdout",
          "text": [
            "\u001b[34m\u001b[1malbumentations: \u001b[0mBlur(p=0.01, blur_limit=(3, 7)), MedianBlur(p=0.01, blur_limit=(3, 7)), ToGray(p=0.01, method='weighted_average', num_output_channels=3), CLAHE(p=0.01, clip_limit=(1.0, 4.0), tile_grid_size=(8, 8))\n",
            "\u001b[34m\u001b[1mval: \u001b[0mFast image access ✅ (ping: 0.0±0.0 ms, read: 115.4±41.3 MB/s, size: 3.6 KB)\n"
          ]
        },
        {
          "output_type": "stream",
          "name": "stderr",
          "text": [
            "\u001b[34m\u001b[1mval: \u001b[0mScanning /content/yolov8_dataset/labels/val... 481 images, 6 backgrounds, 0 corrupt: 100%|██████████| 481/481 [00:00<00:00, 994.13it/s]"
          ]
        },
        {
          "output_type": "stream",
          "name": "stdout",
          "text": [
            "\u001b[34m\u001b[1mval: \u001b[0mNew cache created: /content/yolov8_dataset/labels/val.cache\n"
          ]
        },
        {
          "output_type": "stream",
          "name": "stderr",
          "text": [
            "\n"
          ]
        },
        {
          "output_type": "stream",
          "name": "stdout",
          "text": [
            "Plotting labels to defect_detection_project/yolov8n_synthetic_data3/labels.jpg... \n",
            "\u001b[34m\u001b[1moptimizer:\u001b[0m 'optimizer=auto' found, ignoring 'lr0=0.01' and 'momentum=0.937' and determining best 'optimizer', 'lr0' and 'momentum' automatically... \n",
            "\u001b[34m\u001b[1moptimizer:\u001b[0m AdamW(lr=0.001429, momentum=0.9) with parameter groups 57 weight(decay=0.0), 64 weight(decay=0.0005), 63 bias(decay=0.0)\n",
            "Image sizes 512 train, 512 val\n",
            "Using 2 dataloader workers\n",
            "Logging results to \u001b[1mdefect_detection_project/yolov8n_synthetic_data3\u001b[0m\n",
            "Starting training for 50 epochs...\n",
            "\n",
            "      Epoch    GPU_mem   box_loss   cls_loss   dfl_loss  Instances       Size\n"
          ]
        },
        {
          "output_type": "stream",
          "name": "stderr",
          "text": [
            "       1/50      1.29G      1.464      2.264      1.258         97        512: 100%|██████████| 62/62 [00:22<00:00,  2.81it/s]\n",
            "                 Class     Images  Instances      Box(P          R      mAP50  mAP50-95): 100%|██████████| 16/16 [00:04<00:00,  3.70it/s]\n"
          ]
        },
        {
          "output_type": "stream",
          "name": "stdout",
          "text": [
            "                   all        481       2391      0.897      0.185      0.421      0.271\n",
            "\n",
            "      Epoch    GPU_mem   box_loss   cls_loss   dfl_loss  Instances       Size\n"
          ]
        },
        {
          "output_type": "stream",
          "name": "stderr",
          "text": [
            "       2/50      1.61G      1.367       1.55      1.233        100        512: 100%|██████████| 62/62 [00:13<00:00,  4.70it/s]\n",
            "                 Class     Images  Instances      Box(P          R      mAP50  mAP50-95): 100%|██████████| 16/16 [00:03<00:00,  4.82it/s]"
          ]
        },
        {
          "output_type": "stream",
          "name": "stdout",
          "text": [
            "                   all        481       2391      0.704      0.719      0.754      0.434\n"
          ]
        },
        {
          "output_type": "stream",
          "name": "stderr",
          "text": [
            "\n"
          ]
        },
        {
          "output_type": "stream",
          "name": "stdout",
          "text": [
            "\n",
            "      Epoch    GPU_mem   box_loss   cls_loss   dfl_loss  Instances       Size\n"
          ]
        },
        {
          "output_type": "stream",
          "name": "stderr",
          "text": [
            "       3/50      1.61G      1.329      1.426      1.215         95        512: 100%|██████████| 62/62 [00:13<00:00,  4.77it/s]\n",
            "                 Class     Images  Instances      Box(P          R      mAP50  mAP50-95): 100%|██████████| 16/16 [00:03<00:00,  5.01it/s]"
          ]
        },
        {
          "output_type": "stream",
          "name": "stdout",
          "text": [
            "                   all        481       2391      0.769      0.714       0.76      0.453\n"
          ]
        },
        {
          "output_type": "stream",
          "name": "stderr",
          "text": [
            "\n"
          ]
        },
        {
          "output_type": "stream",
          "name": "stdout",
          "text": [
            "\n",
            "      Epoch    GPU_mem   box_loss   cls_loss   dfl_loss  Instances       Size\n"
          ]
        },
        {
          "output_type": "stream",
          "name": "stderr",
          "text": [
            "       4/50      1.63G      1.293      1.341      1.229         79        512: 100%|██████████| 62/62 [00:12<00:00,  4.87it/s]\n",
            "                 Class     Images  Instances      Box(P          R      mAP50  mAP50-95): 100%|██████████| 16/16 [00:04<00:00,  3.71it/s]"
          ]
        },
        {
          "output_type": "stream",
          "name": "stdout",
          "text": [
            "                   all        481       2391       0.83      0.729      0.809      0.545\n"
          ]
        },
        {
          "output_type": "stream",
          "name": "stderr",
          "text": [
            "\n"
          ]
        },
        {
          "output_type": "stream",
          "name": "stdout",
          "text": [
            "\n",
            "      Epoch    GPU_mem   box_loss   cls_loss   dfl_loss  Instances       Size\n"
          ]
        },
        {
          "output_type": "stream",
          "name": "stderr",
          "text": [
            "       5/50      1.65G      1.239      1.249      1.189        115        512: 100%|██████████| 62/62 [00:13<00:00,  4.74it/s]\n",
            "                 Class     Images  Instances      Box(P          R      mAP50  mAP50-95): 100%|██████████| 16/16 [00:03<00:00,  4.86it/s]"
          ]
        },
        {
          "output_type": "stream",
          "name": "stdout",
          "text": [
            "                   all        481       2391      0.861       0.76      0.833      0.554\n"
          ]
        },
        {
          "output_type": "stream",
          "name": "stderr",
          "text": [
            "\n"
          ]
        },
        {
          "output_type": "stream",
          "name": "stdout",
          "text": [
            "\n",
            "      Epoch    GPU_mem   box_loss   cls_loss   dfl_loss  Instances       Size\n"
          ]
        },
        {
          "output_type": "stream",
          "name": "stderr",
          "text": [
            "       6/50      1.65G       1.19      1.166      1.168         86        512: 100%|██████████| 62/62 [00:13<00:00,  4.77it/s]\n",
            "                 Class     Images  Instances      Box(P          R      mAP50  mAP50-95): 100%|██████████| 16/16 [00:03<00:00,  4.92it/s]"
          ]
        },
        {
          "output_type": "stream",
          "name": "stdout",
          "text": [
            "                   all        481       2391      0.873      0.771      0.837      0.558\n"
          ]
        },
        {
          "output_type": "stream",
          "name": "stderr",
          "text": [
            "\n"
          ]
        },
        {
          "output_type": "stream",
          "name": "stdout",
          "text": [
            "\n",
            "      Epoch    GPU_mem   box_loss   cls_loss   dfl_loss  Instances       Size\n"
          ]
        },
        {
          "output_type": "stream",
          "name": "stderr",
          "text": [
            "       7/50      1.65G      1.162      1.139      1.164         95        512: 100%|██████████| 62/62 [00:14<00:00,  4.39it/s]\n",
            "                 Class     Images  Instances      Box(P          R      mAP50  mAP50-95): 100%|██████████| 16/16 [00:04<00:00,  3.82it/s]"
          ]
        },
        {
          "output_type": "stream",
          "name": "stdout",
          "text": [
            "                   all        481       2391      0.876      0.774      0.849      0.585\n"
          ]
        },
        {
          "output_type": "stream",
          "name": "stderr",
          "text": [
            "\n"
          ]
        },
        {
          "output_type": "stream",
          "name": "stdout",
          "text": [
            "\n",
            "      Epoch    GPU_mem   box_loss   cls_loss   dfl_loss  Instances       Size\n"
          ]
        },
        {
          "output_type": "stream",
          "name": "stderr",
          "text": [
            "       8/50      1.65G      1.161      1.098      1.158         92        512: 100%|██████████| 62/62 [00:12<00:00,  4.83it/s]\n",
            "                 Class     Images  Instances      Box(P          R      mAP50  mAP50-95): 100%|██████████| 16/16 [00:03<00:00,  4.86it/s]"
          ]
        },
        {
          "output_type": "stream",
          "name": "stdout",
          "text": [
            "                   all        481       2391      0.902      0.759      0.852      0.589\n"
          ]
        },
        {
          "output_type": "stream",
          "name": "stderr",
          "text": [
            "\n"
          ]
        },
        {
          "output_type": "stream",
          "name": "stdout",
          "text": [
            "\n",
            "      Epoch    GPU_mem   box_loss   cls_loss   dfl_loss  Instances       Size\n"
          ]
        },
        {
          "output_type": "stream",
          "name": "stderr",
          "text": [
            "       9/50      1.65G      1.137      1.053      1.143        103        512: 100%|██████████| 62/62 [00:12<00:00,  4.79it/s]\n",
            "                 Class     Images  Instances      Box(P          R      mAP50  mAP50-95): 100%|██████████| 16/16 [00:03<00:00,  4.91it/s]"
          ]
        },
        {
          "output_type": "stream",
          "name": "stdout",
          "text": [
            "                   all        481       2391      0.903      0.788      0.874       0.59\n"
          ]
        },
        {
          "output_type": "stream",
          "name": "stderr",
          "text": [
            "\n"
          ]
        },
        {
          "output_type": "stream",
          "name": "stdout",
          "text": [
            "\n",
            "      Epoch    GPU_mem   box_loss   cls_loss   dfl_loss  Instances       Size\n"
          ]
        },
        {
          "output_type": "stream",
          "name": "stderr",
          "text": [
            "      10/50      1.65G      1.089       1.01       1.13         76        512: 100%|██████████| 62/62 [00:12<00:00,  4.89it/s]\n",
            "                 Class     Images  Instances      Box(P          R      mAP50  mAP50-95): 100%|██████████| 16/16 [00:04<00:00,  3.76it/s]"
          ]
        },
        {
          "output_type": "stream",
          "name": "stdout",
          "text": [
            "                   all        481       2391      0.917       0.81      0.882      0.634\n"
          ]
        },
        {
          "output_type": "stream",
          "name": "stderr",
          "text": [
            "\n"
          ]
        },
        {
          "output_type": "stream",
          "name": "stdout",
          "text": [
            "\n",
            "      Epoch    GPU_mem   box_loss   cls_loss   dfl_loss  Instances       Size\n"
          ]
        },
        {
          "output_type": "stream",
          "name": "stderr",
          "text": [
            "      11/50      1.66G      1.092       1.02      1.118         87        512: 100%|██████████| 62/62 [00:12<00:00,  4.85it/s]\n",
            "                 Class     Images  Instances      Box(P          R      mAP50  mAP50-95): 100%|██████████| 16/16 [00:03<00:00,  4.99it/s]"
          ]
        },
        {
          "output_type": "stream",
          "name": "stdout",
          "text": [
            "                   all        481       2391      0.933      0.789      0.885      0.611\n"
          ]
        },
        {
          "output_type": "stream",
          "name": "stderr",
          "text": [
            "\n"
          ]
        },
        {
          "output_type": "stream",
          "name": "stdout",
          "text": [
            "\n",
            "      Epoch    GPU_mem   box_loss   cls_loss   dfl_loss  Instances       Size\n"
          ]
        },
        {
          "output_type": "stream",
          "name": "stderr",
          "text": [
            "      12/50      1.67G      1.083     0.9965      1.121         96        512: 100%|██████████| 62/62 [00:12<00:00,  4.83it/s]\n",
            "                 Class     Images  Instances      Box(P          R      mAP50  mAP50-95): 100%|██████████| 16/16 [00:03<00:00,  5.07it/s]"
          ]
        },
        {
          "output_type": "stream",
          "name": "stdout",
          "text": [
            "                   all        481       2391      0.938      0.764      0.876      0.637\n"
          ]
        },
        {
          "output_type": "stream",
          "name": "stderr",
          "text": [
            "\n"
          ]
        },
        {
          "output_type": "stream",
          "name": "stdout",
          "text": [
            "\n",
            "      Epoch    GPU_mem   box_loss   cls_loss   dfl_loss  Instances       Size\n"
          ]
        },
        {
          "output_type": "stream",
          "name": "stderr",
          "text": [
            "      13/50      1.67G      1.042     0.9653      1.112         86        512: 100%|██████████| 62/62 [00:12<00:00,  4.82it/s]\n",
            "                 Class     Images  Instances      Box(P          R      mAP50  mAP50-95): 100%|██████████| 16/16 [00:03<00:00,  4.97it/s]"
          ]
        },
        {
          "output_type": "stream",
          "name": "stdout",
          "text": [
            "                   all        481       2391      0.917      0.749      0.856       0.54\n"
          ]
        },
        {
          "output_type": "stream",
          "name": "stderr",
          "text": [
            "\n"
          ]
        },
        {
          "output_type": "stream",
          "name": "stdout",
          "text": [
            "\n",
            "      Epoch    GPU_mem   box_loss   cls_loss   dfl_loss  Instances       Size\n"
          ]
        },
        {
          "output_type": "stream",
          "name": "stderr",
          "text": [
            "      14/50      1.68G      1.044     0.9504      1.106        100        512: 100%|██████████| 62/62 [00:12<00:00,  4.96it/s]\n",
            "                 Class     Images  Instances      Box(P          R      mAP50  mAP50-95): 100%|██████████| 16/16 [00:04<00:00,  3.78it/s]"
          ]
        },
        {
          "output_type": "stream",
          "name": "stdout",
          "text": [
            "                   all        481       2391      0.931      0.812      0.901      0.643\n"
          ]
        },
        {
          "output_type": "stream",
          "name": "stderr",
          "text": [
            "\n"
          ]
        },
        {
          "output_type": "stream",
          "name": "stdout",
          "text": [
            "\n",
            "      Epoch    GPU_mem   box_loss   cls_loss   dfl_loss  Instances       Size\n"
          ]
        },
        {
          "output_type": "stream",
          "name": "stderr",
          "text": [
            "      15/50       1.7G      1.007     0.9223      1.093         92        512: 100%|██████████| 62/62 [00:12<00:00,  4.82it/s]\n",
            "                 Class     Images  Instances      Box(P          R      mAP50  mAP50-95): 100%|██████████| 16/16 [00:03<00:00,  4.97it/s]"
          ]
        },
        {
          "output_type": "stream",
          "name": "stdout",
          "text": [
            "                   all        481       2391       0.92      0.793      0.887      0.653\n"
          ]
        },
        {
          "output_type": "stream",
          "name": "stderr",
          "text": [
            "\n"
          ]
        },
        {
          "output_type": "stream",
          "name": "stdout",
          "text": [
            "\n",
            "      Epoch    GPU_mem   box_loss   cls_loss   dfl_loss  Instances       Size\n"
          ]
        },
        {
          "output_type": "stream",
          "name": "stderr",
          "text": [
            "      16/50       1.7G     0.9935     0.9305      1.101        108        512: 100%|██████████| 62/62 [00:12<00:00,  4.82it/s]\n",
            "                 Class     Images  Instances      Box(P          R      mAP50  mAP50-95): 100%|██████████| 16/16 [00:03<00:00,  4.98it/s]"
          ]
        },
        {
          "output_type": "stream",
          "name": "stdout",
          "text": [
            "                   all        481       2391      0.924      0.799      0.909      0.644\n"
          ]
        },
        {
          "output_type": "stream",
          "name": "stderr",
          "text": [
            "\n"
          ]
        },
        {
          "output_type": "stream",
          "name": "stdout",
          "text": [
            "\n",
            "      Epoch    GPU_mem   box_loss   cls_loss   dfl_loss  Instances       Size\n"
          ]
        },
        {
          "output_type": "stream",
          "name": "stderr",
          "text": [
            "      17/50       1.7G      1.008     0.9316        1.1         90        512: 100%|██████████| 62/62 [00:13<00:00,  4.74it/s]\n",
            "                 Class     Images  Instances      Box(P          R      mAP50  mAP50-95): 100%|██████████| 16/16 [00:04<00:00,  3.91it/s]"
          ]
        },
        {
          "output_type": "stream",
          "name": "stdout",
          "text": [
            "                   all        481       2391      0.934      0.797      0.905       0.69\n"
          ]
        },
        {
          "output_type": "stream",
          "name": "stderr",
          "text": [
            "\n"
          ]
        },
        {
          "output_type": "stream",
          "name": "stdout",
          "text": [
            "\n",
            "      Epoch    GPU_mem   box_loss   cls_loss   dfl_loss  Instances       Size\n"
          ]
        },
        {
          "output_type": "stream",
          "name": "stderr",
          "text": [
            "      18/50      1.72G     0.9565     0.8722       1.07         91        512: 100%|██████████| 62/62 [00:12<00:00,  4.92it/s]\n",
            "                 Class     Images  Instances      Box(P          R      mAP50  mAP50-95): 100%|██████████| 16/16 [00:03<00:00,  4.76it/s]"
          ]
        },
        {
          "output_type": "stream",
          "name": "stdout",
          "text": [
            "                   all        481       2391       0.93       0.79      0.897      0.665\n"
          ]
        },
        {
          "output_type": "stream",
          "name": "stderr",
          "text": [
            "\n"
          ]
        },
        {
          "output_type": "stream",
          "name": "stdout",
          "text": [
            "\n",
            "      Epoch    GPU_mem   box_loss   cls_loss   dfl_loss  Instances       Size\n"
          ]
        },
        {
          "output_type": "stream",
          "name": "stderr",
          "text": [
            "      19/50      1.72G     0.9549     0.8798      1.072         91        512: 100%|██████████| 62/62 [00:12<00:00,  4.87it/s]\n",
            "                 Class     Images  Instances      Box(P          R      mAP50  mAP50-95): 100%|██████████| 16/16 [00:03<00:00,  5.05it/s]"
          ]
        },
        {
          "output_type": "stream",
          "name": "stdout",
          "text": [
            "                   all        481       2391      0.914      0.801        0.9      0.696\n"
          ]
        },
        {
          "output_type": "stream",
          "name": "stderr",
          "text": [
            "\n"
          ]
        },
        {
          "output_type": "stream",
          "name": "stdout",
          "text": [
            "\n",
            "      Epoch    GPU_mem   box_loss   cls_loss   dfl_loss  Instances       Size\n"
          ]
        },
        {
          "output_type": "stream",
          "name": "stderr",
          "text": [
            "      20/50      1.72G     0.9348     0.8656      1.075         86        512: 100%|██████████| 62/62 [00:12<00:00,  4.83it/s]\n",
            "                 Class     Images  Instances      Box(P          R      mAP50  mAP50-95): 100%|██████████| 16/16 [00:03<00:00,  4.99it/s]"
          ]
        },
        {
          "output_type": "stream",
          "name": "stdout",
          "text": [
            "                   all        481       2391      0.928      0.793      0.894      0.648\n"
          ]
        },
        {
          "output_type": "stream",
          "name": "stderr",
          "text": [
            "\n"
          ]
        },
        {
          "output_type": "stream",
          "name": "stdout",
          "text": [
            "\n",
            "      Epoch    GPU_mem   box_loss   cls_loss   dfl_loss  Instances       Size\n"
          ]
        },
        {
          "output_type": "stream",
          "name": "stderr",
          "text": [
            "      21/50      1.72G     0.9431     0.8783      1.074        130        512: 100%|██████████| 62/62 [00:12<00:00,  4.89it/s]\n",
            "                 Class     Images  Instances      Box(P          R      mAP50  mAP50-95): 100%|██████████| 16/16 [00:04<00:00,  3.89it/s]"
          ]
        },
        {
          "output_type": "stream",
          "name": "stdout",
          "text": [
            "                   all        481       2391      0.953      0.799      0.909      0.698\n"
          ]
        },
        {
          "output_type": "stream",
          "name": "stderr",
          "text": [
            "\n"
          ]
        },
        {
          "output_type": "stream",
          "name": "stdout",
          "text": [
            "\n",
            "      Epoch    GPU_mem   box_loss   cls_loss   dfl_loss  Instances       Size\n"
          ]
        },
        {
          "output_type": "stream",
          "name": "stderr",
          "text": [
            "      22/50      1.72G     0.9205     0.8449      1.063        110        512: 100%|██████████| 62/62 [00:12<00:00,  4.83it/s]\n",
            "                 Class     Images  Instances      Box(P          R      mAP50  mAP50-95): 100%|██████████| 16/16 [00:03<00:00,  4.91it/s]"
          ]
        },
        {
          "output_type": "stream",
          "name": "stdout",
          "text": [
            "                   all        481       2391      0.927      0.821      0.914      0.739\n"
          ]
        },
        {
          "output_type": "stream",
          "name": "stderr",
          "text": [
            "\n"
          ]
        },
        {
          "output_type": "stream",
          "name": "stdout",
          "text": [
            "\n",
            "      Epoch    GPU_mem   box_loss   cls_loss   dfl_loss  Instances       Size\n"
          ]
        },
        {
          "output_type": "stream",
          "name": "stderr",
          "text": [
            "      23/50      1.72G     0.8939     0.8431      1.059        106        512: 100%|██████████| 62/62 [00:12<00:00,  4.81it/s]\n",
            "                 Class     Images  Instances      Box(P          R      mAP50  mAP50-95): 100%|██████████| 16/16 [00:03<00:00,  5.04it/s]"
          ]
        },
        {
          "output_type": "stream",
          "name": "stdout",
          "text": [
            "                   all        481       2391      0.933        0.8      0.907      0.689\n"
          ]
        },
        {
          "output_type": "stream",
          "name": "stderr",
          "text": [
            "\n"
          ]
        },
        {
          "output_type": "stream",
          "name": "stdout",
          "text": [
            "\n",
            "      Epoch    GPU_mem   box_loss   cls_loss   dfl_loss  Instances       Size\n"
          ]
        },
        {
          "output_type": "stream",
          "name": "stderr",
          "text": [
            "      24/50      1.72G     0.8914     0.8145      1.047        106        512: 100%|██████████| 62/62 [00:12<00:00,  4.89it/s]\n",
            "                 Class     Images  Instances      Box(P          R      mAP50  mAP50-95): 100%|██████████| 16/16 [00:04<00:00,  3.92it/s]"
          ]
        },
        {
          "output_type": "stream",
          "name": "stdout",
          "text": [
            "                   all        481       2391      0.931      0.825      0.913      0.696\n"
          ]
        },
        {
          "output_type": "stream",
          "name": "stderr",
          "text": [
            "\n"
          ]
        },
        {
          "output_type": "stream",
          "name": "stdout",
          "text": [
            "\n",
            "      Epoch    GPU_mem   box_loss   cls_loss   dfl_loss  Instances       Size\n"
          ]
        },
        {
          "output_type": "stream",
          "name": "stderr",
          "text": [
            "      25/50      1.72G     0.9114     0.8324      1.059         79        512: 100%|██████████| 62/62 [00:12<00:00,  5.00it/s]\n",
            "                 Class     Images  Instances      Box(P          R      mAP50  mAP50-95): 100%|██████████| 16/16 [00:03<00:00,  4.59it/s]"
          ]
        },
        {
          "output_type": "stream",
          "name": "stdout",
          "text": [
            "                   all        481       2391      0.947      0.804      0.911      0.723\n"
          ]
        },
        {
          "output_type": "stream",
          "name": "stderr",
          "text": [
            "\n"
          ]
        },
        {
          "output_type": "stream",
          "name": "stdout",
          "text": [
            "\n",
            "      Epoch    GPU_mem   box_loss   cls_loss   dfl_loss  Instances       Size\n"
          ]
        },
        {
          "output_type": "stream",
          "name": "stderr",
          "text": [
            "      26/50      1.72G     0.9124     0.8304      1.049        122        512: 100%|██████████| 62/62 [00:12<00:00,  4.81it/s]\n",
            "                 Class     Images  Instances      Box(P          R      mAP50  mAP50-95): 100%|██████████| 16/16 [00:03<00:00,  4.85it/s]"
          ]
        },
        {
          "output_type": "stream",
          "name": "stdout",
          "text": [
            "                   all        481       2391      0.923      0.816      0.903      0.703\n"
          ]
        },
        {
          "output_type": "stream",
          "name": "stderr",
          "text": [
            "\n"
          ]
        },
        {
          "output_type": "stream",
          "name": "stdout",
          "text": [
            "\n",
            "      Epoch    GPU_mem   box_loss   cls_loss   dfl_loss  Instances       Size\n"
          ]
        },
        {
          "output_type": "stream",
          "name": "stderr",
          "text": [
            "      27/50      1.72G     0.8869     0.8259      1.052        114        512: 100%|██████████| 62/62 [00:13<00:00,  4.74it/s]\n",
            "                 Class     Images  Instances      Box(P          R      mAP50  mAP50-95): 100%|██████████| 16/16 [00:03<00:00,  5.23it/s]"
          ]
        },
        {
          "output_type": "stream",
          "name": "stdout",
          "text": [
            "                   all        481       2391      0.942      0.811      0.915      0.714\n"
          ]
        },
        {
          "output_type": "stream",
          "name": "stderr",
          "text": [
            "\n"
          ]
        },
        {
          "output_type": "stream",
          "name": "stdout",
          "text": [
            "\n",
            "      Epoch    GPU_mem   box_loss   cls_loss   dfl_loss  Instances       Size\n"
          ]
        },
        {
          "output_type": "stream",
          "name": "stderr",
          "text": [
            "      28/50      1.72G      0.859     0.8078      1.032         96        512: 100%|██████████| 62/62 [00:12<00:00,  4.82it/s]\n",
            "                 Class     Images  Instances      Box(P          R      mAP50  mAP50-95): 100%|██████████| 16/16 [00:04<00:00,  3.77it/s]"
          ]
        },
        {
          "output_type": "stream",
          "name": "stdout",
          "text": [
            "                   all        481       2391      0.927      0.835      0.922      0.733\n"
          ]
        },
        {
          "output_type": "stream",
          "name": "stderr",
          "text": [
            "\n"
          ]
        },
        {
          "output_type": "stream",
          "name": "stdout",
          "text": [
            "\n",
            "      Epoch    GPU_mem   box_loss   cls_loss   dfl_loss  Instances       Size\n"
          ]
        },
        {
          "output_type": "stream",
          "name": "stderr",
          "text": [
            "      29/50      1.72G     0.8593     0.7937      1.037        126        512: 100%|██████████| 62/62 [00:12<00:00,  4.81it/s]\n",
            "                 Class     Images  Instances      Box(P          R      mAP50  mAP50-95): 100%|██████████| 16/16 [00:03<00:00,  4.87it/s]"
          ]
        },
        {
          "output_type": "stream",
          "name": "stdout",
          "text": [
            "                   all        481       2391      0.959       0.81       0.92      0.763\n"
          ]
        },
        {
          "output_type": "stream",
          "name": "stderr",
          "text": [
            "\n"
          ]
        },
        {
          "output_type": "stream",
          "name": "stdout",
          "text": [
            "\n",
            "      Epoch    GPU_mem   box_loss   cls_loss   dfl_loss  Instances       Size\n"
          ]
        },
        {
          "output_type": "stream",
          "name": "stderr",
          "text": [
            "      30/50      1.72G     0.8419     0.7821      1.038         89        512: 100%|██████████| 62/62 [00:12<00:00,  4.81it/s]\n",
            "                 Class     Images  Instances      Box(P          R      mAP50  mAP50-95): 100%|██████████| 16/16 [00:03<00:00,  5.03it/s]"
          ]
        },
        {
          "output_type": "stream",
          "name": "stdout",
          "text": [
            "                   all        481       2391      0.923      0.835      0.923      0.749\n"
          ]
        },
        {
          "output_type": "stream",
          "name": "stderr",
          "text": [
            "\n"
          ]
        },
        {
          "output_type": "stream",
          "name": "stdout",
          "text": [
            "\n",
            "      Epoch    GPU_mem   box_loss   cls_loss   dfl_loss  Instances       Size\n"
          ]
        },
        {
          "output_type": "stream",
          "name": "stderr",
          "text": [
            "      31/50      1.72G     0.8659     0.8165       1.05         80        512: 100%|██████████| 62/62 [00:13<00:00,  4.77it/s]\n",
            "                 Class     Images  Instances      Box(P          R      mAP50  mAP50-95): 100%|██████████| 16/16 [00:03<00:00,  4.02it/s]"
          ]
        },
        {
          "output_type": "stream",
          "name": "stdout",
          "text": [
            "                   all        481       2391      0.945       0.81      0.907      0.706\n"
          ]
        },
        {
          "output_type": "stream",
          "name": "stderr",
          "text": [
            "\n"
          ]
        },
        {
          "output_type": "stream",
          "name": "stdout",
          "text": [
            "\n",
            "      Epoch    GPU_mem   box_loss   cls_loss   dfl_loss  Instances       Size\n"
          ]
        },
        {
          "output_type": "stream",
          "name": "stderr",
          "text": [
            "      32/50      1.72G     0.8412     0.7818      1.028         93        512: 100%|██████████| 62/62 [00:12<00:00,  4.98it/s]\n",
            "                 Class     Images  Instances      Box(P          R      mAP50  mAP50-95): 100%|██████████| 16/16 [00:03<00:00,  4.36it/s]"
          ]
        },
        {
          "output_type": "stream",
          "name": "stdout",
          "text": [
            "                   all        481       2391      0.943      0.818      0.922      0.724\n"
          ]
        },
        {
          "output_type": "stream",
          "name": "stderr",
          "text": [
            "\n"
          ]
        },
        {
          "output_type": "stream",
          "name": "stdout",
          "text": [
            "\n",
            "      Epoch    GPU_mem   box_loss   cls_loss   dfl_loss  Instances       Size\n"
          ]
        },
        {
          "output_type": "stream",
          "name": "stderr",
          "text": [
            "      33/50      1.72G     0.8443     0.8001       1.04         90        512: 100%|██████████| 62/62 [00:12<00:00,  4.83it/s]\n",
            "                 Class     Images  Instances      Box(P          R      mAP50  mAP50-95): 100%|██████████| 16/16 [00:03<00:00,  5.01it/s]"
          ]
        },
        {
          "output_type": "stream",
          "name": "stdout",
          "text": [
            "                   all        481       2391      0.958      0.798      0.914      0.719\n"
          ]
        },
        {
          "output_type": "stream",
          "name": "stderr",
          "text": [
            "\n"
          ]
        },
        {
          "output_type": "stream",
          "name": "stdout",
          "text": [
            "\n",
            "      Epoch    GPU_mem   box_loss   cls_loss   dfl_loss  Instances       Size\n"
          ]
        },
        {
          "output_type": "stream",
          "name": "stderr",
          "text": [
            "      34/50      1.72G     0.8388     0.7871      1.033        109        512: 100%|██████████| 62/62 [00:12<00:00,  4.79it/s]\n",
            "                 Class     Images  Instances      Box(P          R      mAP50  mAP50-95): 100%|██████████| 16/16 [00:03<00:00,  4.94it/s]"
          ]
        },
        {
          "output_type": "stream",
          "name": "stdout",
          "text": [
            "                   all        481       2391       0.96      0.807      0.921      0.728\n"
          ]
        },
        {
          "output_type": "stream",
          "name": "stderr",
          "text": [
            "\n"
          ]
        },
        {
          "output_type": "stream",
          "name": "stdout",
          "text": [
            "\n",
            "      Epoch    GPU_mem   box_loss   cls_loss   dfl_loss  Instances       Size\n"
          ]
        },
        {
          "output_type": "stream",
          "name": "stderr",
          "text": [
            "      35/50      1.72G     0.8085     0.7693      1.017         85        512: 100%|██████████| 62/62 [00:13<00:00,  4.72it/s]\n",
            "                 Class     Images  Instances      Box(P          R      mAP50  mAP50-95): 100%|██████████| 16/16 [00:04<00:00,  3.83it/s]"
          ]
        },
        {
          "output_type": "stream",
          "name": "stdout",
          "text": [
            "                   all        481       2391      0.936      0.851       0.93      0.747\n"
          ]
        },
        {
          "output_type": "stream",
          "name": "stderr",
          "text": [
            "\n"
          ]
        },
        {
          "output_type": "stream",
          "name": "stdout",
          "text": [
            "\n",
            "      Epoch    GPU_mem   box_loss   cls_loss   dfl_loss  Instances       Size\n"
          ]
        },
        {
          "output_type": "stream",
          "name": "stderr",
          "text": [
            "      36/50      1.72G     0.7993     0.7638      1.015         54        512: 100%|██████████| 62/62 [00:12<00:00,  4.80it/s]\n",
            "                 Class     Images  Instances      Box(P          R      mAP50  mAP50-95): 100%|██████████| 16/16 [00:03<00:00,  5.12it/s]"
          ]
        },
        {
          "output_type": "stream",
          "name": "stdout",
          "text": [
            "                   all        481       2391      0.962      0.813      0.921       0.73\n"
          ]
        },
        {
          "output_type": "stream",
          "name": "stderr",
          "text": [
            "\n"
          ]
        },
        {
          "output_type": "stream",
          "name": "stdout",
          "text": [
            "\n",
            "      Epoch    GPU_mem   box_loss   cls_loss   dfl_loss  Instances       Size\n"
          ]
        },
        {
          "output_type": "stream",
          "name": "stderr",
          "text": [
            "      37/50      1.72G     0.8084     0.7591      1.015         92        512: 100%|██████████| 62/62 [00:12<00:00,  4.77it/s]\n",
            "                 Class     Images  Instances      Box(P          R      mAP50  mAP50-95): 100%|██████████| 16/16 [00:03<00:00,  4.64it/s]"
          ]
        },
        {
          "output_type": "stream",
          "name": "stdout",
          "text": [
            "                   all        481       2391      0.954      0.825       0.93      0.778\n"
          ]
        },
        {
          "output_type": "stream",
          "name": "stderr",
          "text": [
            "\n"
          ]
        },
        {
          "output_type": "stream",
          "name": "stdout",
          "text": [
            "\n",
            "      Epoch    GPU_mem   box_loss   cls_loss   dfl_loss  Instances       Size\n"
          ]
        },
        {
          "output_type": "stream",
          "name": "stderr",
          "text": [
            "      38/50      1.72G     0.8013     0.7584       1.02         93        512: 100%|██████████| 62/62 [00:12<00:00,  4.83it/s]\n",
            "                 Class     Images  Instances      Box(P          R      mAP50  mAP50-95): 100%|██████████| 16/16 [00:04<00:00,  3.67it/s]"
          ]
        },
        {
          "output_type": "stream",
          "name": "stdout",
          "text": [
            "                   all        481       2391      0.935      0.842      0.928      0.756\n"
          ]
        },
        {
          "output_type": "stream",
          "name": "stderr",
          "text": [
            "\n"
          ]
        },
        {
          "output_type": "stream",
          "name": "stdout",
          "text": [
            "\n",
            "      Epoch    GPU_mem   box_loss   cls_loss   dfl_loss  Instances       Size\n"
          ]
        },
        {
          "output_type": "stream",
          "name": "stderr",
          "text": [
            "      39/50      1.72G      0.784     0.7392      1.009        104        512: 100%|██████████| 62/62 [00:12<00:00,  4.81it/s]\n",
            "                 Class     Images  Instances      Box(P          R      mAP50  mAP50-95): 100%|██████████| 16/16 [00:03<00:00,  4.86it/s]"
          ]
        },
        {
          "output_type": "stream",
          "name": "stdout",
          "text": [
            "                   all        481       2391      0.944      0.816      0.923       0.73\n"
          ]
        },
        {
          "output_type": "stream",
          "name": "stderr",
          "text": [
            "\n"
          ]
        },
        {
          "output_type": "stream",
          "name": "stdout",
          "text": [
            "\n",
            "      Epoch    GPU_mem   box_loss   cls_loss   dfl_loss  Instances       Size\n"
          ]
        },
        {
          "output_type": "stream",
          "name": "stderr",
          "text": [
            "      40/50      1.72G     0.7825     0.7471      1.017         73        512: 100%|██████████| 62/62 [00:12<00:00,  4.84it/s]\n",
            "                 Class     Images  Instances      Box(P          R      mAP50  mAP50-95): 100%|██████████| 16/16 [00:03<00:00,  4.97it/s]"
          ]
        },
        {
          "output_type": "stream",
          "name": "stdout",
          "text": [
            "                   all        481       2391      0.959      0.822       0.93       0.77\n"
          ]
        },
        {
          "output_type": "stream",
          "name": "stderr",
          "text": [
            "\n"
          ]
        },
        {
          "output_type": "stream",
          "name": "stdout",
          "text": [
            "Closing dataloader mosaic\n",
            "\u001b[34m\u001b[1malbumentations: \u001b[0mBlur(p=0.01, blur_limit=(3, 7)), MedianBlur(p=0.01, blur_limit=(3, 7)), ToGray(p=0.01, method='weighted_average', num_output_channels=3), CLAHE(p=0.01, clip_limit=(1.0, 4.0), tile_grid_size=(8, 8))\n",
            "\n",
            "      Epoch    GPU_mem   box_loss   cls_loss   dfl_loss  Instances       Size\n"
          ]
        },
        {
          "output_type": "stream",
          "name": "stderr",
          "text": [
            "      41/50      1.72G     0.6365     0.5073     0.9104         62        512: 100%|██████████| 62/62 [00:13<00:00,  4.55it/s]\n",
            "                 Class     Images  Instances      Box(P          R      mAP50  mAP50-95): 100%|██████████| 16/16 [00:03<00:00,  4.06it/s]"
          ]
        },
        {
          "output_type": "stream",
          "name": "stdout",
          "text": [
            "                   all        481       2391      0.919      0.857      0.925      0.772\n"
          ]
        },
        {
          "output_type": "stream",
          "name": "stderr",
          "text": [
            "\n"
          ]
        },
        {
          "output_type": "stream",
          "name": "stdout",
          "text": [
            "\n",
            "      Epoch    GPU_mem   box_loss   cls_loss   dfl_loss  Instances       Size\n"
          ]
        },
        {
          "output_type": "stream",
          "name": "stderr",
          "text": [
            "      42/50      1.72G      0.622     0.4686     0.9045         59        512: 100%|██████████| 62/62 [00:11<00:00,  5.18it/s]\n",
            "                 Class     Images  Instances      Box(P          R      mAP50  mAP50-95): 100%|██████████| 16/16 [00:03<00:00,  4.16it/s]"
          ]
        },
        {
          "output_type": "stream",
          "name": "stdout",
          "text": [
            "                   all        481       2391      0.969      0.816      0.927      0.766\n"
          ]
        },
        {
          "output_type": "stream",
          "name": "stderr",
          "text": [
            "\n"
          ]
        },
        {
          "output_type": "stream",
          "name": "stdout",
          "text": [
            "\n",
            "      Epoch    GPU_mem   box_loss   cls_loss   dfl_loss  Instances       Size\n"
          ]
        },
        {
          "output_type": "stream",
          "name": "stderr",
          "text": [
            "      43/50      1.72G     0.6059     0.4554     0.9047         62        512: 100%|██████████| 62/62 [00:12<00:00,  5.01it/s]\n",
            "                 Class     Images  Instances      Box(P          R      mAP50  mAP50-95): 100%|██████████| 16/16 [00:03<00:00,  4.98it/s]"
          ]
        },
        {
          "output_type": "stream",
          "name": "stdout",
          "text": [
            "                   all        481       2391      0.915      0.867      0.929      0.757\n"
          ]
        },
        {
          "output_type": "stream",
          "name": "stderr",
          "text": [
            "\n"
          ]
        },
        {
          "output_type": "stream",
          "name": "stdout",
          "text": [
            "\n",
            "      Epoch    GPU_mem   box_loss   cls_loss   dfl_loss  Instances       Size\n"
          ]
        },
        {
          "output_type": "stream",
          "name": "stderr",
          "text": [
            "      44/50      1.72G     0.6047     0.4626      0.905         59        512: 100%|██████████| 62/62 [00:12<00:00,  5.04it/s]\n",
            "                 Class     Images  Instances      Box(P          R      mAP50  mAP50-95): 100%|██████████| 16/16 [00:03<00:00,  4.72it/s]"
          ]
        },
        {
          "output_type": "stream",
          "name": "stdout",
          "text": [
            "                   all        481       2391      0.955      0.824      0.928      0.761\n"
          ]
        },
        {
          "output_type": "stream",
          "name": "stderr",
          "text": [
            "\n"
          ]
        },
        {
          "output_type": "stream",
          "name": "stdout",
          "text": [
            "\n",
            "      Epoch    GPU_mem   box_loss   cls_loss   dfl_loss  Instances       Size\n"
          ]
        },
        {
          "output_type": "stream",
          "name": "stderr",
          "text": [
            "      45/50      1.72G     0.5971     0.4533     0.9049         69        512: 100%|██████████| 62/62 [00:12<00:00,  4.89it/s]\n",
            "                 Class     Images  Instances      Box(P          R      mAP50  mAP50-95): 100%|██████████| 16/16 [00:04<00:00,  3.89it/s]"
          ]
        },
        {
          "output_type": "stream",
          "name": "stdout",
          "text": [
            "                   all        481       2391      0.924      0.868      0.927      0.764\n"
          ]
        },
        {
          "output_type": "stream",
          "name": "stderr",
          "text": [
            "\n"
          ]
        },
        {
          "output_type": "stream",
          "name": "stdout",
          "text": [
            "\n",
            "      Epoch    GPU_mem   box_loss   cls_loss   dfl_loss  Instances       Size\n"
          ]
        },
        {
          "output_type": "stream",
          "name": "stderr",
          "text": [
            "      46/50      1.72G     0.6013     0.4491     0.9083         58        512: 100%|██████████| 62/62 [00:12<00:00,  5.00it/s]\n",
            "                 Class     Images  Instances      Box(P          R      mAP50  mAP50-95): 100%|██████████| 16/16 [00:03<00:00,  4.34it/s]"
          ]
        },
        {
          "output_type": "stream",
          "name": "stdout",
          "text": [
            "                   all        481       2391      0.924      0.871      0.932      0.782\n"
          ]
        },
        {
          "output_type": "stream",
          "name": "stderr",
          "text": [
            "\n"
          ]
        },
        {
          "output_type": "stream",
          "name": "stdout",
          "text": [
            "\n",
            "      Epoch    GPU_mem   box_loss   cls_loss   dfl_loss  Instances       Size\n"
          ]
        },
        {
          "output_type": "stream",
          "name": "stderr",
          "text": [
            "      47/50      1.72G     0.5745      0.435      0.895         67        512: 100%|██████████| 62/62 [00:12<00:00,  4.90it/s]\n",
            "                 Class     Images  Instances      Box(P          R      mAP50  mAP50-95): 100%|██████████| 16/16 [00:03<00:00,  4.99it/s]"
          ]
        },
        {
          "output_type": "stream",
          "name": "stdout",
          "text": [
            "                   all        481       2391       0.92      0.869      0.931      0.763\n"
          ]
        },
        {
          "output_type": "stream",
          "name": "stderr",
          "text": [
            "\n"
          ]
        },
        {
          "output_type": "stream",
          "name": "stdout",
          "text": [
            "\n",
            "      Epoch    GPU_mem   box_loss   cls_loss   dfl_loss  Instances       Size\n"
          ]
        },
        {
          "output_type": "stream",
          "name": "stderr",
          "text": [
            "      48/50      1.72G     0.5606     0.4276     0.8937         61        512: 100%|██████████| 62/62 [00:12<00:00,  4.83it/s]\n",
            "                 Class     Images  Instances      Box(P          R      mAP50  mAP50-95): 100%|██████████| 16/16 [00:03<00:00,  5.10it/s]"
          ]
        },
        {
          "output_type": "stream",
          "name": "stdout",
          "text": [
            "                   all        481       2391      0.913      0.874      0.934      0.793\n"
          ]
        },
        {
          "output_type": "stream",
          "name": "stderr",
          "text": [
            "\n"
          ]
        },
        {
          "output_type": "stream",
          "name": "stdout",
          "text": [
            "\n",
            "      Epoch    GPU_mem   box_loss   cls_loss   dfl_loss  Instances       Size\n"
          ]
        },
        {
          "output_type": "stream",
          "name": "stderr",
          "text": [
            "      49/50      1.72G     0.5496     0.4152       0.88         66        512: 100%|██████████| 62/62 [00:12<00:00,  4.90it/s]\n",
            "                 Class     Images  Instances      Box(P          R      mAP50  mAP50-95): 100%|██████████| 16/16 [00:04<00:00,  3.73it/s]"
          ]
        },
        {
          "output_type": "stream",
          "name": "stdout",
          "text": [
            "                   all        481       2391      0.918      0.868      0.934      0.783\n"
          ]
        },
        {
          "output_type": "stream",
          "name": "stderr",
          "text": [
            "\n"
          ]
        },
        {
          "output_type": "stream",
          "name": "stdout",
          "text": [
            "\n",
            "      Epoch    GPU_mem   box_loss   cls_loss   dfl_loss  Instances       Size\n"
          ]
        },
        {
          "output_type": "stream",
          "name": "stderr",
          "text": [
            "      50/50      1.72G     0.5642     0.4222     0.8861         48        512: 100%|██████████| 62/62 [00:12<00:00,  5.10it/s]\n",
            "                 Class     Images  Instances      Box(P          R      mAP50  mAP50-95): 100%|██████████| 16/16 [00:03<00:00,  4.71it/s]"
          ]
        },
        {
          "output_type": "stream",
          "name": "stdout",
          "text": [
            "                   all        481       2391      0.922      0.874      0.935      0.793\n"
          ]
        },
        {
          "output_type": "stream",
          "name": "stderr",
          "text": [
            "\n"
          ]
        },
        {
          "output_type": "stream",
          "name": "stdout",
          "text": [
            "\n",
            "50 epochs completed in 0.236 hours.\n",
            "Optimizer stripped from defect_detection_project/yolov8n_synthetic_data3/weights/last.pt, 6.2MB\n",
            "Optimizer stripped from defect_detection_project/yolov8n_synthetic_data3/weights/best.pt, 6.2MB\n",
            "\n",
            "Validating defect_detection_project/yolov8n_synthetic_data3/weights/best.pt...\n",
            "Ultralytics 8.3.160 🚀 Python-3.11.13 torch-2.6.0+cu124 CUDA:0 (Tesla T4, 15095MiB)\n",
            "Model summary (fused): 72 layers, 3,006,233 parameters, 0 gradients, 8.1 GFLOPs\n"
          ]
        },
        {
          "output_type": "stream",
          "name": "stderr",
          "text": [
            "                 Class     Images  Instances      Box(P          R      mAP50  mAP50-95): 100%|██████████| 16/16 [00:04<00:00,  3.24it/s]\n"
          ]
        },
        {
          "output_type": "stream",
          "name": "stdout",
          "text": [
            "                   all        481       2391      0.923      0.874      0.935      0.793\n",
            "               scratch        355        709      0.835      0.988      0.988      0.918\n",
            "              particle        399       1200      0.969      0.645      0.825      0.604\n",
            "                  blob        320        482      0.966       0.99      0.992      0.857\n",
            "Speed: 0.2ms preprocess, 1.9ms inference, 0.0ms loss, 2.3ms postprocess per image\n",
            "Results saved to \u001b[1mdefect_detection_project/yolov8n_synthetic_data3\u001b[0m\n",
            "\n",
            "Training completed!\n"
          ]
        }
      ]
    },
    {
      "cell_type": "code",
      "source": [
        "RUN_NAME = \"yolov8n_synthetic_data\" # Ensure this matches your actual run name\n"
      ],
      "metadata": {
        "id": "hFcM64gpQcG7"
      },
      "execution_count": 11,
      "outputs": []
    },
    {
      "cell_type": "code",
      "source": [
        "import os\n",
        "import cv2\n",
        "import matplotlib.pyplot as plt\n",
        "import random\n",
        "from ultralytics import YOLO # Moved this to the top of the cell for good practice\n",
        "\n",
        "# --- Configuration ---\n",
        "PROJECT_NAME = \"defect_detection_project\"\n",
        "RUN_NAME = \"yolov8n_synthetic_data\" # This seems correct based on the structure implied by your output\n",
        "                                   # If your run was actually 'yolov8n_synthetic_data2', update this.\n",
        "\n",
        "# Corrected TRAINED_MODEL_PATH\n",
        "# It seems your runs directory is INSIDE your project directory,\n",
        "# not directly in /content/\n",
        "TRAINED_MODEL_PATH = os.path.join(PROJECT_NAME, RUN_NAME, \"weights\", \"best.pt\")\n",
        "\n",
        "\n",
        "# Original dataset paths to get some unseen images for prediction\n",
        "OUTPUT_DIR = \"synthetic_defect_data\"\n",
        "IMAGES_SOURCE_DIR = os.path.join(OUTPUT_DIR, \"images\")\n",
        "\n",
        "# Load the trained model\n",
        "try:\n",
        "    model = YOLO(TRAINED_MODEL_PATH)\n",
        "    print(f\"Successfully loaded model from: {TRAINED_MODEL_PATH}\")\n",
        "except Exception as e:\n",
        "    print(f\"Error loading model: {e}\")\n",
        "    print(\"Please ensure the TRAINED_MODEL_PATH is correct and the training run completed successfully.\")\n",
        "    print(f\"Expected path: {os.path.abspath(TRAINED_MODEL_PATH)}\") # This will now print the corrected path\n",
        "    # If the model isn't found, you might need to adjust the RUN_NAME or check the folder structure\n",
        "\n",
        "# --- Get a few random images from the dataset for prediction ---\n",
        "# We'll pick from the original images directory (which includes both train and val)\n",
        "all_image_files = [f for f in os.listdir(IMAGES_SOURCE_DIR) if f.endswith('.png')]\n",
        "random_test_images = random.sample(all_image_files, min(5, len(all_image_files))) # Pick 5 random from ALL generated\n",
        "\n",
        "print(f\"\\nMaking predictions on {len(random_test_images)} random images...\")\n",
        "\n",
        "plt.figure(figsize=(15, 5 * len(random_test_images)))\n",
        "\n",
        "for i, img_file in enumerate(random_test_images):\n",
        "    # Use the full path for prediction\n",
        "    img_path = os.path.join(IMAGES_SOURCE_DIR, img_file)\n",
        "\n",
        "    # Perform prediction\n",
        "    # The 'conf' argument sets the confidence threshold for detections.\n",
        "    # Only detections with confidence >= 0.25 will be shown by default.\n",
        "    # 'iou' is the Intersection Over Union threshold for NMS (Non-Maximum Suppression)\n",
        "    results = model.predict(source=img_path, save=False, show=False, conf=0.25, iou=0.7)\n",
        "\n",
        "    # Process results (assuming single image prediction per call)\n",
        "    for r in results:\n",
        "        # Plot predictions on the image using ultralytics' plotting utility\n",
        "        im_with_boxes = r.plot() # This returns an RGB numpy array\n",
        "\n",
        "        plt.subplot(len(random_test_images), 1, i + 1)\n",
        "        plt.imshow(im_with_boxes)\n",
        "        plt.title(f\"Prediction for: {img_file}\")\n",
        "        plt.axis('off')\n",
        "\n",
        "plt.tight_layout()\n",
        "plt.show()\n",
        "\n",
        "print(\"\\nPrediction visualization complete. Check the displayed images above!\")"
      ],
      "metadata": {
        "colab": {
          "base_uri": "https://localhost:8080/",
          "height": 1000
        },
        "id": "wT-NmemkRtRI",
        "outputId": "3b261e36-6add-4b10-a358-6e9345da6153"
      },
      "execution_count": 12,
      "outputs": [
        {
          "output_type": "stream",
          "name": "stdout",
          "text": [
            "Successfully loaded model from: defect_detection_project/yolov8n_synthetic_data/weights/best.pt\n",
            "\n",
            "Making predictions on 5 random images...\n",
            "\n",
            "image 1/1 /content/synthetic_defect_data/images/wafer_0432.png: 512x512 4 scratchs, 1 particle, 6.2ms\n",
            "Speed: 1.5ms preprocess, 6.2ms inference, 1.5ms postprocess per image at shape (1, 3, 512, 512)\n",
            "\n",
            "image 1/1 /content/synthetic_defect_data/images/wafer_0819.png: 512x512 1 scratch, 6.4ms\n",
            "Speed: 1.2ms preprocess, 6.4ms inference, 1.4ms postprocess per image at shape (1, 3, 512, 512)\n",
            "\n",
            "image 1/1 /content/synthetic_defect_data/images/wafer_0800.png: 512x512 1 scratch, 2 particles, 2 blobs, 7.6ms\n",
            "Speed: 1.3ms preprocess, 7.6ms inference, 1.5ms postprocess per image at shape (1, 3, 512, 512)\n",
            "\n",
            "image 1/1 /content/synthetic_defect_data/images/wafer_0690.png: 512x512 1 particle, 2 blobs, 6.5ms\n",
            "Speed: 1.2ms preprocess, 6.5ms inference, 1.3ms postprocess per image at shape (1, 3, 512, 512)\n",
            "\n",
            "image 1/1 /content/synthetic_defect_data/images/wafer_0188.png: 512x512 8 scratchs, 1 blob, 7.2ms\n",
            "Speed: 1.2ms preprocess, 7.2ms inference, 1.3ms postprocess per image at shape (1, 3, 512, 512)\n"
          ]
        },
        {
          "output_type": "display_data",
          "data": {
            "text/plain": [
              "<Figure size 1500x2500 with 5 Axes>"
            ],
            "image/png": "[encoded data removed]"
          },
          "metadata": {}
        },
        {
          "output_type": "stream",
          "name": "stdout",
          "text": [
            "\n",
            "Prediction visualization complete. Check the displayed images above!\n"
          ]
        }
      ]
    },
    {
      "cell_type": "code",
      "source": [
        "# No space before 's' in streamlit_app_code\n",
        "streamlit_app_code = \"\"\"\n",
        "import streamlit as st\n",
        "import cv2\n",
        "# ... (all your streamlit app code here) ...\n",
        "# No space before 's' in st.sidebar.info\n",
        "st.sidebar.info(\"Developed for the Intel® AI Global Impact Festival.\")\n",
        "\"\"\" # No space before this closing triple quote\n",
        "\n",
        "with open(\"app.py\", \"w\") as f:\n",
        "    f.write(streamlit_app_code)\n",
        "\n",
        "print(\"Streamlit app.py created successfully!\")\n",
        "print(\"Next, run the app using: !streamlit run app.py --server.port 80\")"
      ],
      "metadata": {
        "colab": {
          "base_uri": "https://localhost:8080/"
        },
        "id": "1J81LdktUxJG",
        "outputId": "21397090-2db7-4477-9ee2-30c9572d4d08"
      },
      "execution_count": 20,
      "outputs": [
        {
          "output_type": "stream",
          "name": "stdout",
          "text": [
            "Streamlit app.py created successfully!\n",
            "Next, run the app using: !streamlit run app.py --server.port 80\n"
          ]
        }
      ]
    },
    {
      "cell_type": "code",
      "source": [
        "# --- STEP 11: Run the Streamlit Application via Ngrok ---\n",
        "print(\"Step 11: Setting up and running Streamlit application...\")\n",
        "# Install necessary libraries if not already present\n",
        "!pip install pyngrok\n",
        "\n",
        "from pyngrok import ngrok\n",
        "import threading\n",
        "import time\n",
        "import os # Ensure os is imported here for os.system calls\n",
        "\n",
        "# Kill any existing ngrok tunnels (useful if you run this cell multiple times)\n",
        "# This command is often necessary in Colab to free up ports.\n",
        "!kill $(lsof -t -i:8501) >/dev/null 2>&1 || true # Kill if on default 8501\n",
        "!kill $(lsof -t -i:80) >/dev/null 2>&1 || true   # Kill if on our chosen port 80\n",
        "\n",
        "# Authenticate ngrok (THIS IS CRUCIAL)\n",
        "# Your authtoken: 2z8RgcnZROtxpOGEvJvTRknTg7T_6J11DQBiYn37rTz2Vp8B4\n",
        "print(\"Authenticating ngrok...\")\n",
        "!ngrok authtoken 2z8RgcnZROtxpOGEvJvTRknTg7T_6J11DQBiYn37rTz2Vp8B4\n",
        "\n",
        "# Define the Streamlit app path\n",
        "APP_PATH = \"app.py\"\n",
        "\n",
        "# Start Streamlit in a separate thread\n",
        "def run_streamlit():\n",
        "    os.system(f\"streamlit run {APP_PATH} --server.port 80 --server.headless true --browser.gatherUsageStats false\")\n",
        "\n",
        "print(\"Starting Streamlit app in background...\")\n",
        "thread = threading.Thread(target=run_streamlit)\n",
        "thread.daemon = True # Allows thread to exit when main program exits\n",
        "thread.start()\n",
        "\n",
        "# Wait for Streamlit to start up\n",
        "time.sleep(15) # Give Streamlit a moment to start the server\n",
        "\n",
        "print(\"Attempting to create ngrok tunnel...\")\n",
        "try:\n",
        "    public_url = ngrok.connect(80, proto=\"http\") # Port 80 as defined in streamlit run command\n",
        "    print(f\"Your Streamlit app is live at: {public_url}\")\n",
        "    print(\"Click the link above to open your application.\")\n",
        "except Exception as e:\n",
        "    print(f\"Error creating ngrok tunnel: {e}\")\n",
        "    print(\"If you still see an authentication error, please re-check your ngrok token on the dashboard.\")\n",
        "    print(\"\\nStreamlit app might still be running locally in Colab, but not publicly accessible without ngrok.\")\n",
        "\n",
        "print(\"\\nStreamlit app is running. This cell will remain active until manually stopped (click the stop square).\")\n",
        "print(\"Step 11: Streamlit application setup complete.\")\n",
        "print(\"-\" * 50)"
      ],
      "metadata": {
        "colab": {
          "base_uri": "https://localhost:8080/"
        },
        "id": "pUdbzoWuelIA",
        "outputId": "eadb58aa-1230-4dd4-bc93-b543a61e6c59"
      },
      "execution_count": 21,
      "outputs": [
        {
          "output_type": "stream",
          "name": "stdout",
          "text": [
            "Step 11: Setting up and running Streamlit application...\n",
            "Requirement already satisfied: pyngrok in /usr/local/lib/python3.11/dist-packages (7.2.11)\n",
            "Requirement already satisfied: PyYAML>=5.1 in /usr/local/lib/python3.11/dist-packages (from pyngrok) (6.0.2)\n",
            "Authenticating ngrok...\n",
            "Authtoken saved to configuration file: /root/.config/ngrok/ngrok.yml\n",
            "Starting Streamlit app in background...\n",
            "Attempting to create ngrok tunnel...\n",
            "Your Streamlit app is live at: NgrokTunnel: \"https://2720-35-247-151-232.ngrok-free.app\" -> \"http://localhost:80\"\n",
            "Click the link above to open your application.\n",
            "\n",
            "Streamlit app is running. This cell will remain active until manually stopped (click the stop square).\n",
            "Step 11: Streamlit application setup complete.\n",
            "--------------------------------------------------\n"
          ]
        }
      ]
    },
    {
      "cell_type": "code",
      "source": [
        "# --- STEP 10: Create Streamlit Application File ---\n",
        "print(\"Step 10: Creating Streamlit application file (app.py)...\")\n",
        "\n",
        "# The entire content of this multi-line string MUST start at the first column\n",
        "# No leading spaces before 'import streamlit', 'import cv2', etc., and especially not for the '\"\"\"'\n",
        "streamlit_app_code = \"\"\"\n",
        "import streamlit as st\n",
        "import cv2\n",
        "import numpy as np\n",
        "from ultralytics import YOLO\n",
        "import os\n",
        "from PIL import Image\n",
        "\n",
        "# --- Configuration (match your training setup) ---\n",
        "PROJECT_NAME = \"defect_detection_project\"\n",
        "RUN_NAME = \"yolov8n_synthetic_data\" # Ensure this matches your actual run name\n",
        "TRAINED_MODEL_PATH = os.path.join(PROJECT_NAME, RUN_NAME, \"weights\", \"best.pt\")\n",
        "\n",
        "# Class names (must match the order used during training)\n",
        "CLASS_NAMES = [\"scratch\", \"particle\", \"blob\"]\n",
        "COLORS = {\n",
        "    \"scratch\": (0, 0, 255),  # Red (BGR)\n",
        "    \"particle\": (0, 255, 0), # Green (BGR)\n",
        "    \"blob\": (255, 0, 0)      # Blue (BGR)\n",
        "}\n",
        "\n",
        "# --- Load the Model (cached to avoid reloading on every rerun) ---\n",
        "@st.cache_resource\n",
        "def load_model():\n",
        "    try:\n",
        "        model = YOLO(TRAINED_MODEL_PATH)\n",
        "        st.success(f\"Model loaded successfully from: {TRAINED_MODEL_PATH}\")\n",
        "        return model\n",
        "    except Exception as e:\n",
        "        st.error(f\"Error loading model: {e}\")\n",
        "        st.warning(f\"Please ensure the trained model path '{TRAINED_MODEL_PATH}' is correct and the training run completed successfully.\")\n",
        "        return None\n",
        "\n",
        "# Load the model once\n",
        "model = load_model()\n",
        "\n",
        "# --- Streamlit UI ---\n",
        "st.set_page_config(\n",
        "    page_title=\"Wafer Defect Detector\",\n",
        "    page_icon=\"🔍\",\n",
        "    layout=\"wide\",\n",
        "    initial_sidebar_state=\"expanded\"\n",
        ")\n",
        "\n",
        "st.title(\"🔬 Wafer Defect Detection\")\n",
        "st.markdown(\"Upload a wafer image to detect scratches, particles, and blobs.\")\n",
        "\n",
        "if model is None:\n",
        "    st.stop() # Stop the app if model failed to load\n",
        "\n",
        "# File Uploader\n",
        "uploaded_file = st.file_uploader(\"Choose a wafer image...\", type=[\"png\", \"jpg\", \"jpeg\"])\n",
        "\n",
        "if uploaded_file is not None:\n",
        "    # Read the image\n",
        "    file_bytes = np.asarray(bytearray(uploaded_file.read()), dtype=np.uint8)\n",
        "    img_bgr = cv2.imdecode(file_bytes, cv2.IMREAD_COLOR) # OpenCV reads as BGR\n",
        "\n",
        "    if img_bgr is None:\n",
        "        st.error(\"Could not load image. Please try another file.\")\n",
        "        st.stop()\n",
        "\n",
        "    st.image(img_bgr, channels=\"BGR\", caption=\"Uploaded Wafer Image\", use_column_width=True)\n",
        "    st.write(\"\")\n",
        "    st.subheader(\"Detecting Defects...\")\n",
        "\n",
        "    # Perform inference\n",
        "    results = model.predict(source=img_bgr, save=False, show=False, conf=0.25, iou=0.7)\n",
        "\n",
        "    # Process results and display\n",
        "    for r in results:\n",
        "        im_with_boxes = r.plot() # This returns an image with bounding boxes drawn, in RGB format\n",
        "\n",
        "        # Display results\n",
        "        st.image(im_with_boxes, channels=\"RGB\", caption=\"Detected Defects\", use_column_width=True)\n",
        "\n",
        "        # Summarize detections\n",
        "        detections_summary = {}\n",
        "        if r.boxes: # Check if any boxes were detected\n",
        "            for cls_id in r.boxes.cls.unique():\n",
        "                count = (r.boxes.cls == cls_id).sum().item()\n",
        "                class_name = CLASS_NAMES[int(cls_id)]\n",
        "                detections_summary[class_name] = detections_summary.get(class_name, 0) + count\n",
        "\n",
        "        st.subheader(\"Detection Summary:\")\n",
        "        if detections_summary:\n",
        "            for defect_type, count in detections_summary.items():\n",
        "                st.write(f\"- **{defect_type.capitalize()}**: {count} detected\")\n",
        "        else:\n",
        "            st.write(\"No defects detected in this image.\")\n",
        "\n",
        "st.sidebar.header(\"About This App\")\n",
        "st.sidebar.markdown(\n",
        "    \"\"\"\n",
        "    This application uses a YOLOv8 object detection model, trained on\n",
        "    synthetically generated wafer images, to identify common defects\n",
        "    like scratches, particles, and blobs.\n",
        "\n",
        "    **Model:** YOLOv8n\n",
        "    **Classes:** Scratches, Particles, Blobs\n",
        "    \"\"\"\n",
        ")\n",
        "st.sidebar.info(\"Developed for the Intel® AI Global Impact Festival.\")\n",
        "\"\"\" # This closing triple quote MUST also be at the first column\n",
        "\n",
        "with open(\"app.py\", \"w\") as f:\n",
        "    f.write(streamlit_app_code)\n",
        "\n",
        "print(\"Step 10: Streamlit app.py created successfully!\")\n",
        "print(\"-\" * 50)\n",
        "\n",
        "\n",
        "# --- STEP 11: Run the Streamlit Application via Ngrok ---\n",
        "print(\"Step 11: Setting up and running Streamlit application...\")\n",
        "# Install necessary libraries if not already present\n",
        "!pip install pyngrok\n",
        "\n",
        "from pyngrok import ngrok\n",
        "import threading\n",
        "import time\n",
        "import os\n",
        "import socket # Import socket for checking port status\n",
        "\n",
        "# Kill any existing ngrok tunnels (useful if you run this cell multiple times)\n",
        "!kill $(lsof -t -i:8501) >/dev/null 2>&1 || true\n",
        "!kill $(lsof -t -i:80) >/dev/null 2>&1 || true\n",
        "\n",
        "\n",
        "# Authenticate ngrok (THIS IS CRUCIAL)\n",
        "# Your authtoken: 2z8RgcnZROtxpOGEvJvTRknTg7T_6J11DQBiYn37rTz2Vp8B4\n",
        "print(\"Authenticating ngrok...\")\n",
        "!ngrok authtoken 2z8RgcnZROtxpOGEvJvTRknTg7T_6J11DQBiYn37rTz2Vp8B4\n",
        "\n",
        "# Define the Streamlit app path\n",
        "APP_PATH = \"app.py\"\n",
        "STREAMLIT_PORT = 80 # The port Streamlit will run on\n",
        "\n",
        "# Function to check if a port is in use\n",
        "def is_port_in_use(port):\n",
        "    with socket.socket(socket.AF_INET, socket.SOCK_STREAM) as s:\n",
        "        return s.connect_ex(('localhost', port)) == 0\n",
        "\n",
        "# Start Streamlit in a separate thread\n",
        "def run_streamlit():\n",
        "    # Use -B to run in background (headless) and -s to specify the script\n",
        "    # No --server.headless true as -B implicitly handles that\n",
        "    os.system(f\"streamlit run {APP_PATH} --server.port {STREAMLIT_PORT} --browser.gatherUsageStats false\")\n",
        "\n",
        "print(f\"Starting Streamlit app in background on port {STREAMLIT_PORT}...\")\n",
        "thread = threading.Thread(target=run_streamlit)\n",
        "thread.daemon = True\n",
        "thread.start()\n",
        "\n",
        "# Wait for Streamlit to start up\n",
        "start_time = time.time()\n",
        "timeout = 45 # Increased timeout to give Streamlit more time\n",
        "print(\"Waiting for Streamlit to become available...\")\n",
        "\n",
        "while not is_port_in_use(STREAMLIT_PORT) and (time.time() - start_time) < timeout:\n",
        "    time.sleep(2) # Check every 2 seconds\n",
        "\n",
        "if not is_port_in_use(STREAMLIT_PORT):\n",
        "    print(f\"Streamlit did not start on port {STREAMLIT_PORT} within the timeout. Ngrok tunnel might fail.\")\n",
        "else:\n",
        "    print(f\"Streamlit detected listening on port {STREAMLIT_PORT}.\")\n",
        "\n",
        "print(\"Attempting to create ngrok tunnel...\")\n",
        "try:\n",
        "    public_url = ngrok.connect(STREAMLIT_PORT, proto=\"http\")\n",
        "    print(f\"Your Streamlit app is live at: {public_url}\")\n",
        "    print(\"Click the link above to open your application.\")\n",
        "except Exception as e:\n",
        "    print(f\"Error creating ngrok tunnel: {e}\")\n",
        "    print(\"If you still see an authentication error, please re-check your ngrok token on the dashboard.\")\n",
        "    print(\"If it's a connection refused error, Streamlit might not be running correctly on the specified port.\")\n",
        "    print(\"\\nStreamlit app might still be running locally in Colab, but not publicly accessible without ngrok.\")\n",
        "\n",
        "print(\"\\nStreamlit app is running. This cell will remain active until manually stopped (click the stop square).\")\n",
        "print(\"Step 11: Streamlit application setup complete.\")\n",
        "print(\"-\" * 50)\n"
      ],
      "metadata": {
        "colab": {
          "base_uri": "https://localhost:8080/",
          "height": 106
        },
        "id": "04R0XPFggR9N",
        "outputId": "70beadf1-31f1-4bbb-a43a-8b97b8792102"
      },
      "execution_count": 1,
      "outputs": [
        {
          "output_type": "error",
          "ename": "IndentationError",
          "evalue": "unexpected indent (ipython-input-1-1750920944.py, line 100)",
          "traceback": [
            "\u001b[0;36m  File \u001b[0;32m\"/tmp/ipython-input-1-1750920944.py\"\u001b[0;36m, line \u001b[0;32m100\u001b[0m\n\u001b[0;31m    This application uses a YOLOv8 object detection model, trained on\u001b[0m\n\u001b[0m    ^\u001b[0m\n\u001b[0;31mIndentationError\u001b[0m\u001b[0;31m:\u001b[0m unexpected indent\n"
          ]
        }
      ]
    }
  ]
}